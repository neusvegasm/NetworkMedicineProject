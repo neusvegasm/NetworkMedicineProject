{
 "cells": [
  {
   "cell_type": "markdown",
   "source": [
    "## Drug reporpusing"
   ],
   "metadata": {
    "collapsed": false
   }
  },
  {
   "cell_type": "markdown",
   "source": [
    "#### Libraries"
   ],
   "metadata": {
    "collapsed": false
   }
  },
  {
   "cell_type": "code",
   "execution_count": 8,
   "outputs": [],
   "source": [
    "import pandas as pd\n",
    "# import requests\n",
    "from pytrials.client import ClinicalTrials"
   ],
   "metadata": {
    "collapsed": false
   }
  },
  {
   "cell_type": "code",
   "execution_count": 9,
   "metadata": {
    "collapsed": true
   },
   "outputs": [
    {
     "name": "stdout",
     "output_type": "stream",
     "text": [
      "['PALBOCICLIB', 'DABRAFENIB', 'VEMURAFENIB', 'TRAMETINIB DIMETHYL SULFOXIDE', 'GEMCITABINE', 'SORAFENIB', 'PEMBROLIZUMAB']\n"
     ]
    }
   ],
   "source": [
    "target_fields = ['NCT Number', 'Study Title', 'Brief Summary', 'Study Results']\n",
    "\n",
    "\n",
    "def clinical_trials_query(disease, drug):\n",
    "    search_terms = f'{disease} AND {drug}'\n",
    "    ct = ClinicalTrials()\n",
    "    clinical_trials = ct.get_study_fields(search_expr=search_terms,\n",
    "                                          fields=target_fields,\n",
    "                                          max_studies=1000,\n",
    "                                          fmt=\"csv\")\n",
    "    column_names = clinical_trials[0]\n",
    "    rows = clinical_trials[1:]\n",
    "    Table_Visualization_of_clinical_trials = pd.DataFrame(rows, columns=column_names)\n",
    "\n",
    "    keys = clinical_trials[0]\n",
    "    keys.insert(0, 'Drug')\n",
    "    clinical_trials = clinical_trials[1:]\n",
    "    list_of_dictionaries = []\n",
    "    for inner_list in clinical_trials:\n",
    "        inner_list.insert(0, drug)\n",
    "        dict_item = {keys[i]: inner_list[i] for i in range(len(keys))}\n",
    "        list_of_dictionaries.append(dict_item)\n",
    "\n",
    "    return list_of_dictionaries, Table_Visualization_of_clinical_trials\n",
    "\n",
    "\n",
    "File_of_DBIdb = 'data/gene_interaction_results-04_01_2025.tsv'\n",
    "Table_Visualization_of_DBIdb = pd.read_csv(File_of_DBIdb, sep='\\t')\n",
    "Table_Visualization_of_DBIdb_approved = \\\n",
    "    Table_Visualization_of_DBIdb[Table_Visualization_of_DBIdb.iloc[:, 2] == 'Approved']\n",
    "\n",
    "Drugs_Identified_with_repetitions = Table_Visualization_of_DBIdb_approved['drug']\n",
    "# ans = Drugs_Identified.unique()\n",
    "Drugs_Identified = Drugs_Identified_with_repetitions.value_counts()\n",
    "New_Order_of_the_Table = Drugs_Identified.index\n",
    "\n",
    "Table_Visualization_of_DBIdb_approved_reindexed = \\\n",
    "    Table_Visualization_of_DBIdb_approved.set_index('drug').loc[\n",
    "        New_Order_of_the_Table].reset_index()\n",
    "\n",
    "Most_Important_Drugs_isolation = Drugs_Identified[Drugs_Identified == Drugs_Identified.max()]\n",
    "Most_Important_Drugs_list = list(Most_Important_Drugs_isolation.index)\n",
    "\n",
    "disease = \"melanoma\"\n",
    "\n",
    "clinical_trials_collection = []\n",
    "counter = 0\n",
    "for drug in Most_Important_Drugs_list:\n",
    "    clinical_trial_Dictionary_associated_to_drug, _ = clinical_trials_query(disease, drug)\n",
    "    clinical_trials_collection.append(clinical_trial_Dictionary_associated_to_drug)\n",
    "\n",
    "    # clinical_trials_collection.append(clinical_trials_query(disease, drug))\n",
    "    counter += 1\n",
    "\n",
    "print(Most_Important_Drugs_list)"
   ]
  },
  {
   "cell_type": "code",
   "execution_count": 34,
   "outputs": [
    {
     "name": "stdout",
     "output_type": "stream",
     "text": [
      "12\n",
      "113\n",
      "113\n"
     ]
    }
   ],
   "source": [
    "# Assuming the drug name is at index 0 in each sublist:\n",
    "from collections import Counter\n",
    "drug_counts = Counter(item['Drug'] for item in clinical_trials_collection if 'Drug' in item)\n",
    "print(len(clinical_trials_collection[0]))\n",
    "print(len(clinical_trials_collection[1]))\n",
    "print(len(clinical_trials_collection[2]))\n",
    "\n",
    "\n"
   ],
   "metadata": {
    "collapsed": false
   }
  }
 ],
 "metadata": {
  "kernelspec": {
   "display_name": "Python 3",
   "language": "python",
   "name": "python3"
  },
  "language_info": {
   "codemirror_mode": {
    "name": "ipython",
    "version": 2
   },
   "file_extension": ".py",
   "mimetype": "text/x-python",
   "name": "python",
   "nbconvert_exporter": "python",
   "pygments_lexer": "ipython2",
   "version": "2.7.6"
  }
 },
 "nbformat": 4,
 "nbformat_minor": 0
}
