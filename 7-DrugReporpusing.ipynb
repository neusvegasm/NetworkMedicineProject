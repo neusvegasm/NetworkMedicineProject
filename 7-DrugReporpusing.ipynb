{
 "cells": [
  {
   "cell_type": "markdown",
   "metadata": {},
   "source": [
    "## Drug reporpusing"
   ]
  },
  {
   "cell_type": "markdown",
   "metadata": {},
   "source": [
    "#### Libraries"
   ]
  },
  {
   "cell_type": "code",
   "execution_count": 1,
   "metadata": {},
   "outputs": [],
   "source": [
    "import pandas as pd\n",
    "# import requests\n",
    "from pytrials.client import ClinicalTrials"
   ]
  },
  {
   "cell_type": "markdown",
   "metadata": {},
   "source": [
    "#### Variables"
   ]
  },
  {
   "cell_type": "code",
   "execution_count": 2,
   "metadata": {},
   "outputs": [],
   "source": [
    "# File to Load\n",
    "File_of_DBIdb = 'gene_interaction_results-04_01_2025.tsv'\n",
    "\n",
    "# other variables\n",
    "disease = \"melanoma\"\n",
    "number_of_drugs_to_consider = 3"
   ]
  },
  {
   "cell_type": "markdown",
   "metadata": {
    "collapsed": true
   },
   "source": [
    "#### Function to check the clinical trials"
   ]
  },
  {
   "cell_type": "code",
   "execution_count": 3,
   "metadata": {},
   "outputs": [],
   "source": [
    "target_fields = ['NCT Number', 'Study Title', 'Brief Summary', 'Study Results']\n",
    "\n",
    "\n",
    "def clinical_trials_query(disease, drug):\n",
    "    search_terms = f'{disease} AND {drug}'\n",
    "    ct = ClinicalTrials()\n",
    "    clinical_trials = ct.get_study_fields(search_expr=search_terms,\n",
    "                                          fields=target_fields,\n",
    "                                          max_studies=1000,\n",
    "                                          fmt=\"csv\")\n",
    "    column_names = clinical_trials[0]\n",
    "    rows = clinical_trials[1:]\n",
    "    Table_Visualization_of_clinical_trials = pd.DataFrame(rows, columns=column_names)\n",
    "\n",
    "    keys = clinical_trials[0]\n",
    "    keys.insert(0, 'Drug')\n",
    "    clinical_trials = clinical_trials[1:]\n",
    "    list_of_dictionaries = []\n",
    "    for inner_list in clinical_trials:\n",
    "        inner_list.insert(0, drug)\n",
    "        dict_item = {keys[i]: inner_list[i] for i in range(len(keys))}\n",
    "        list_of_dictionaries.append(dict_item)\n",
    "\n",
    "    return list_of_dictionaries, Table_Visualization_of_clinical_trials"
   ]
  },
  {
   "cell_type": "markdown",
   "metadata": {
    "collapsed": true
   },
   "source": [
    "#### Clinical Trials Evaluation"
   ]
  },
  {
   "cell_type": "code",
   "execution_count": 4,
   "metadata": {},
   "outputs": [
    {
     "name": "stdout",
     "output_type": "stream",
     "text": [
      "['PALBOCICLIB', 'DABRAFENIB', 'VEMURAFENIB', 'TRAMETINIB DIMETHYL SULFOXIDE', 'GEMCITABINE', 'SORAFENIB', 'PEMBROLIZUMAB']\n"
     ]
    }
   ],
   "source": [
    "File_of_DBIdb = 'data/gene_interaction_results-04_01_2025.tsv'\n",
    "Table_Visualization_of_DBIdb = pd.read_csv(File_of_DBIdb, sep='\\t')\n",
    "Table_Visualization_of_DBIdb_approved = \\\n",
    "    Table_Visualization_of_DBIdb[Table_Visualization_of_DBIdb.iloc[:, 2] == 'Approved']\n",
    "\n",
    "Drugs_Identified_with_repetitions = Table_Visualization_of_DBIdb_approved['drug']\n",
    "# ans = Drugs_Identified.unique()\n",
    "Drugs_Identified = Drugs_Identified_with_repetitions.value_counts()\n",
    "New_Order_of_the_Table = Drugs_Identified.index\n",
    "\n",
    "Table_Visualization_of_DBIdb_approved_reindexed = \\\n",
    "    Table_Visualization_of_DBIdb_approved.set_index('drug').loc[\n",
    "        New_Order_of_the_Table].reset_index()\n",
    "\n",
    "Most_Important_Drugs_isolation = Drugs_Identified[Drugs_Identified == Drugs_Identified.max()]\n",
    "Most_Important_Drugs_list = list(Most_Important_Drugs_isolation.index)\n",
    "\n",
    "disease = \"melanoma\"\n",
    "\n",
    "clinical_trials_collection = []\n",
    "counter = 0\n",
    "for drug in Most_Important_Drugs_list:\n",
    "    clinical_trial_Dictionary_associated_to_drug, _ = clinical_trials_query(disease, drug)\n",
    "    clinical_trials_collection.append(clinical_trial_Dictionary_associated_to_drug)\n",
    "\n",
    "    # clinical_trials_collection.append(clinical_trials_query(disease, drug))\n",
    "    counter += 1\n",
    "\n",
    "print(Most_Important_Drugs_list)"
   ]
  },
  {
   "cell_type": "code",
   "execution_count": 5,
   "metadata": {},
   "outputs": [
    {
     "name": "stdout",
     "output_type": "stream",
     "text": [
      "       Drug Name  number of clinical trial  \\\n",
      "0  PEMBROLIZUMAB                       465   \n",
      "1     DABRAFENIB                       113   \n",
      "2    VEMURAFENIB                       113   \n",
      "\n",
      "                                  1st clinical trial  \\\n",
      "0  (NCT06195527)          PEMBRO-K : Evaluation o...   \n",
      "1  (NCT01902173)          Uprosertib, Dabrafenib,...   \n",
      "2  (NCT01519427)          Selumetinib and Akt Inh...   \n",
      "\n",
      "                                  2nd clinical trial  \n",
      "0  (NCT01789827)         Aldesleukin Imaging in V...  \n",
      "1  (NCT01519427)         Selumetinib and Akt Inhi...  \n",
      "2  (NCT04760080)         Association of Hydroxych...  \n"
     ]
    }
   ],
   "source": [
    "clinical_trials_collection = []\n",
    "counter = 0\n",
    "for drug in Most_Important_Drugs_list:\n",
    "    clinical_trial_Dictionary_associated_to_drug, _ = clinical_trials_query(disease, drug)\n",
    "    clinical_trials_collection.append(clinical_trial_Dictionary_associated_to_drug)\n",
    "\n",
    "    # clinical_trials_collection.append(clinical_trials_query(disease, drug))\n",
    "    counter += 1\n",
    "\n",
    "clinical_trials_collection = sorted(clinical_trials_collection, \n",
    "                                    key = lambda d:len(d), reverse = True)\n",
    "Dictionary_of_Drugs_by_clinical_trials = \\\n",
    "    {'Drug Name': [], 'number of clinical trial' : [],\n",
    "     '1st clinical trial': [], '2nd clinical trial': []}\n",
    "\n",
    "for element_in_collection in range(number_of_drugs_to_consider):\n",
    "    List_of_Information_about_the_drug = \\\n",
    "        [clinical_trials_collection[element_in_collection][0]['Drug'],\n",
    "         len(clinical_trials_collection[element_in_collection]),\n",
    "         f\"({clinical_trials_collection[element_in_collection][0]['NCT Number']})  \\\n",
    "        {clinical_trials_collection[element_in_collection][0]['Study Title']}\",\n",
    "        f\"({clinical_trials_collection[element_in_collection][1]['NCT Number']}) \\\n",
    "        {clinical_trials_collection[element_in_collection][1]['Study Title']}\"]\n",
    "    for information, dictionary_key in enumerate(Dictionary_of_Drugs_by_clinical_trials):\n",
    "        Dictionary_of_Drugs_by_clinical_trials[dictionary_key].append(\n",
    "            List_of_Information_about_the_drug[information])\n",
    "\n",
    "Table_Visualization_Drugs_by_clinical_trials = \\\n",
    "    pd.DataFrame(Dictionary_of_Drugs_by_clinical_trials)\n",
    "\n",
    "print(Table_Visualization_Drugs_by_clinical_trials)"
   ]
  }
 ],
 "metadata": {
  "kernelspec": {
   "display_name": "Python 3 (ipykernel)",
   "language": "python",
   "name": "python3"
  },
  "language_info": {
   "codemirror_mode": {
    "name": "ipython",
    "version": 3
   },
   "file_extension": ".py",
   "mimetype": "text/x-python",
   "name": "python",
   "nbconvert_exporter": "python",
   "pygments_lexer": "ipython3",
   "version": "3.11.7"
  }
 },
 "nbformat": 4,
 "nbformat_minor": 1
}
