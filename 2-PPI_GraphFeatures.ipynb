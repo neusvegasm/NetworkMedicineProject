{
 "cells": [
  {
   "cell_type": "markdown",
   "source": [
    "## PPI Graph Features"
   ],
   "metadata": {
    "collapsed": false
   }
  },
  {
   "cell_type": "markdown",
   "source": [
    "#### Libraries"
   ],
   "metadata": {
    "collapsed": false
   }
  },
  {
   "cell_type": "code",
   "execution_count": null,
   "outputs": [],
   "source": [
    "import pickle\n",
    "import networkx as nx\n",
    "import os\n",
    "# import pandas as pd\n",
    "import matplotlib.pyplot as plt\n",
    "import statistics"
   ],
   "metadata": {
    "collapsed": false
   }
  },
  {
   "cell_type": "markdown",
   "source": [
    "#### Variables"
   ],
   "metadata": {
    "collapsed": false
   }
  },
  {
   "cell_type": "code",
   "execution_count": null,
   "outputs": [],
   "source": [
    "# Name of the files to load\n",
    "PPI_list_variable_corrected_updated = \"data/PPI_of_interest_corrected updated\"\n",
    "\n",
    "# Name of the files to save/load\n",
    "Graph_of_PPI_file_name = \"results/PPIGraph/Graph_of_PPI\"\n",
    "Graph_of_PPI_LCC_file_name = \"results/PPIGraph/Graph_of_PPI_LCC\"\n",
    "Sorted_Degrees_figure_name = \"results/PPIGraph/Sorted Degrees of the PPI Network\"\n",
    "Degrees_Histogram_Visualization = \"results/PPIGraph/Degrees Histogram Visualization\"\n",
    "LCC_average_shortest_path_file_name = \"results/PPIGraph/LCC_average_shortest_path\"\n",
    "LCC_clustering_coefficient_file_name = \"results/PPIGraph/LCC_clustering_coefficient\"\n",
    "LCC_Density_file_name = \"results/PPIGraph/LCC_Density\"\n",
    "LLC_Global_Efficiency_file_name = \"results/PPIGraph/LLC_Global_Efficiency\"\n",
    "LLC_Local_Efficiency_file_name = \"results/PPIGraph/LLC_Local_Efficiency\"\n",
    "\n",
    "# other strings we'll use\n",
    "First_gene_symbol_indicator = \"Official Symbol Interactor A\"\n",
    "Second_gene_symbol_indicator = \"Official Symbol Interactor B\""
   ],
   "metadata": {
    "collapsed": false
   }
  },
  {
   "cell_type": "markdown",
   "source": [
    "#### Graph Features"
   ],
   "metadata": {
    "collapsed": false
   }
  },
  {
   "cell_type": "code",
   "execution_count": null,
   "metadata": {
    "collapsed": true
   },
   "outputs": [],
   "source": [
    "with open(PPI_list_variable_corrected_updated, \"rb\") as file:\n",
    "    PPI = pickle.load(file)\n",
    "\n",
    "\n",
    "def Load_or_Save_Variable_from_nx_method(file_name, Graph, nx_method):\n",
    "    if not os.path.exists(file_name):\n",
    "        Variable = nx_method(Graph)\n",
    "        with open(file_name, \"wb\") as file:\n",
    "            pickle.dump(Variable, file)\n",
    "    else:\n",
    "        with open(file_name, \"rb\") as file:\n",
    "            Variable = pickle.load(file)\n",
    "    return Variable\n",
    "\n",
    "\n",
    "if not (os.path.exists(Graph_of_PPI_file_name)\n",
    "        and os.path.exists(Graph_of_PPI_LCC_file_name)):\n",
    "    Graph_of_PPI = nx.from_pandas_edgelist(\n",
    "        PPI, First_gene_symbol_indicator, Second_gene_symbol_indicator)\n",
    "    with open(Graph_of_PPI_file_name, \"wb\") as file:\n",
    "        pickle.dump(Graph_of_PPI, file)\n",
    "\n",
    "    Connected_Components = nx.connected_components(Graph_of_PPI)\n",
    "    largest_cc = max(Connected_Components, key=len)\n",
    "    Graph_of_PPI_LCC = nx.subgraph(Graph_of_PPI, largest_cc).copy()\n",
    "    with open(Graph_of_PPI_LCC_file_name, \"wb\") as file:\n",
    "        pickle.dump(Graph_of_PPI, file)\n",
    "\n",
    "else:\n",
    "    with open(Graph_of_PPI_file_name, \"rb\") as file:\n",
    "        Graph_of_PPI = pickle.load(file)\n",
    "    with open(Graph_of_PPI_LCC_file_name, \"rb\") as file:\n",
    "        Graph_of_PPI_LCC = pickle.load(file)\n",
    "\n",
    "print(\"Features of the initial PPI:\\n\" + str(Graph_of_PPI) + \"\\n\")\n",
    "print(\"Features of the LCC from the initial PPI:\\n\" + str(Graph_of_PPI_LCC) + \"\\n\")\n",
    "\n",
    "degress_of_LCC_dictionary = dict(Graph_of_PPI.degree())\n",
    "degrees_of_LCC_dictionary_sorted = \\\n",
    "    dict(sorted(degress_of_LCC_dictionary.items(), key=lambda item: item[1],\n",
    "                reverse=True))\n",
    "degrees_of_LCC_values = list(degress_of_LCC_dictionary.values())\n",
    "degrees_of_LCC_keys = list(degress_of_LCC_dictionary.keys())\n",
    "mean_degree_of_LCC = statistics.mean(degrees_of_LCC_values)\n",
    "median_degree_of_LCC = statistics.median(degrees_of_LCC_values)\n",
    "sorted_degrees_of_LCC_values = list(degrees_of_LCC_dictionary_sorted.values())\n",
    "sorted_degrees_of_LCC_keys = list(degrees_of_LCC_dictionary_sorted.keys())\n",
    "\n",
    "# # Figures Section\n",
    "# plt.figure(figsize=(12, 9))\n",
    "# plt.subplot(1, 2, 1)\n",
    "# plt.bar(range(len(sorted_degrees_of_LCC_values)), sorted_degrees_of_LCC_values)\n",
    "# plt.xlabel(\"Nodes\")\n",
    "# plt.ylabel(\"Nodes Degrees\")\n",
    "# plt.subplot(1, 2, 2)\n",
    "# plt.bar(sorted_degrees_of_LCC_keys, sorted_degrees_of_LCC_values)\n",
    "# plt.xticks(rotation = 45, ha ='right')\n",
    "# plt.ylabel(\"Nodes Deegres\")\n",
    "# plt.xlim(-0.6, 15.6)\n",
    "# plt.suptitle(\"Sorted Degrees of the PPI network\", fontsize = 20)\n",
    "# plt.savefig(Sorted_Degrees_figure_name, dpi = 500)\n",
    "\n",
    "plt.figure(figsize=(12, 9))\n",
    "plt.subplot(1, 2, 1)\n",
    "plt.hist(degrees_of_LCC_values,\n",
    "         bins=range(min(degrees_of_LCC_values), max(degrees_of_LCC_values) + 1))\n",
    "plt.yscale('log')\n",
    "plt.xlabel(\"Degrees Values\")\n",
    "plt.ylabel(\"Degrees Frequency (log scale)\")\n",
    "plt.subplot(1, 2, 2)\n",
    "plt.hist(degrees_of_LCC_values,\n",
    "         bins=range(min(degrees_of_LCC_values), max(degrees_of_LCC_values) + 1))\n",
    "plt.xscale('log')\n",
    "plt.yscale('log')\n",
    "plt.xlabel(\"Degrees Values (log scale)\")\n",
    "plt.ylabel(\"Degrees Frequency (log scale)\")\n",
    "plt.suptitle(\"Degrees Histogram of the PPI Network\", fontsize=20)\n",
    "plt.savefig(Degrees_Histogram_Visualization, dpi=500, bbox_inches='tight')\n",
    "\n",
    "plt.figure(figsize=(12, 9))\n",
    "plt.subplot(1, 2, 1)\n",
    "plt.hist(degrees_of_LCC_values,\n",
    "         bins=range(min(degrees_of_LCC_values), max(degrees_of_LCC_values) + 1))\n",
    "plt.xlabel(\"Degrees Values\")\n",
    "plt.ylabel(\"Degrees Frequency (log scale)\")\n",
    "plt.ylim(0, 1700)\n",
    "plt.subplot(1, 2, 2)\n",
    "plt.hist(degrees_of_LCC_values,\n",
    "         bins=range(min(degrees_of_LCC_values), max(degrees_of_LCC_values) + 1))\n",
    "plt.xlim(0.3, 15.3)\n",
    "plt.xlabel(\"Degrees Values (log scale)\")\n",
    "plt.ylabel(\"Degrees Frequency (log scale)\")\n",
    "plt.suptitle(\"Degrees Histogram of the PPI Network\", fontsize=20)\n",
    "\n",
    "LCC_average_shortest_path = \\\n",
    "    Load_or_Save_Variable_from_nx_method(LCC_average_shortest_path_file_name,\n",
    "                                         Graph_of_PPI_LCC,\n",
    "                                         nx.average_shortest_path_length)\n",
    "LCC_clustering_coefficient = \\\n",
    "    Load_or_Save_Variable_from_nx_method(LCC_clustering_coefficient_file_name,\n",
    "                                         Graph_of_PPI_LCC,\n",
    "                                         nx.clustering)\n",
    "LCC_clustering_coefficient_Values = list(LCC_clustering_coefficient.values())\n",
    "plt.plot(sorted(LCC_clustering_coefficient_Values, reverse=True))\n",
    "LCC_mean_clustering_coefficient = statistics.mean(LCC_clustering_coefficient_Values)\n",
    "LCC_median_clustering_coefficient = statistics.median(LCC_clustering_coefficient_Values)\n",
    "\n",
    "LCC_Density = \\\n",
    "    Load_or_Save_Variable_from_nx_method(LCC_Density_file_name,\n",
    "                                         Graph_of_PPI_LCC,\n",
    "                                         nx.density)\n",
    "LLC_Global_Efficiency = \\\n",
    "    Load_or_Save_Variable_from_nx_method(LLC_Global_Efficiency_file_name,\n",
    "                                         Graph_of_PPI_LCC,\n",
    "                                         nx.global_efficiency)\n"
   ]
  }
 ],
 "metadata": {
  "kernelspec": {
   "display_name": "Python 3",
   "language": "python",
   "name": "python3"
  },
  "language_info": {
   "codemirror_mode": {
    "name": "ipython",
    "version": 2
   },
   "file_extension": ".py",
   "mimetype": "text/x-python",
   "name": "python",
   "nbconvert_exporter": "python",
   "pygments_lexer": "ipython2",
   "version": "2.7.6"
  }
 },
 "nbformat": 4,
 "nbformat_minor": 0
}
