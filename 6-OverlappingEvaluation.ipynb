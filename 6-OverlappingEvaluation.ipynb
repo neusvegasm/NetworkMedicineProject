{
 "cells": [
  {
   "cell_type": "markdown",
   "source": [
    "\n",
    "## Evaluation of the Overlapping of Functional Modules\n"
   ],
   "metadata": {
    "collapsed": false
   }
  },
  {
   "cell_type": "markdown",
   "source": [
    "#### Libraries"
   ],
   "metadata": {
    "collapsed": false
   }
  },
  {
   "cell_type": "code",
   "execution_count": 1,
   "outputs": [],
   "source": [
    "import pandas as pd"
   ],
   "metadata": {
    "collapsed": false
   }
  },
  {
   "cell_type": "markdown",
   "source": [
    "#### Variables"
   ],
   "metadata": {
    "collapsed": false
   }
  },
  {
   "cell_type": "code",
   "execution_count": 2,
   "outputs": [],
   "source": [
    "# Name of the files to load\n",
    "Seed_GO_Molecular_Function_file = 'data/Seed_GO_Molecular_Function_2023_table.txt'\n",
    "Inferred_GO_Molecular_Function_file = 'data/Inferred_GO_Molecular_Function_2023_table.txt'\n",
    "#\n",
    "Seed_GO_Cellular_Component_file = \"data/Seed_GO_Cellular_Component_2023_table.txt\"\n",
    "Inferred_GO_Cellular_Component_file = 'data/Inferred_GO_Cellular_Component_2023_table.txt'\n",
    "#\n",
    "Seed_GO_Biological_Process_file = 'data/Seeds_GO_Biological_Process_2023_table.txt'\n",
    "Inferred_GO_Biological_Process_file = 'data/Inferred_GO_Biological_Process_2023_table.txt'\n",
    "#\n",
    "Seed_KEGG_file = 'data/Seed_KEGG_2021_Human_table.txt'\n",
    "Inferred_KEGG_file = 'data/Inferred_KEGG_2021_Human_table.txt'\n",
    "#\n",
    "Seed_REACTOME_file = 'data/Seed_Reactome_Pathways_2024_table.txt'\n",
    "Inferred_REACTOME_file = 'data/Inferred_Reactome_Pathways_2024_table.txt'\n",
    "\n",
    "# Other variables defined\n",
    "Tuple_of_GO_Molecular_Function_file = (Seed_GO_Molecular_Function_file,\n",
    "                                       Inferred_GO_Molecular_Function_file)\n",
    "Tuple_of_GO_Cellular_Component_file = (Seed_GO_Cellular_Component_file,\n",
    "                                       Inferred_GO_Cellular_Component_file)\n",
    "Tuple_of_GO_Biological_Process_file = (Seed_GO_Biological_Process_file,\n",
    "                                       Inferred_GO_Biological_Process_file)\n",
    "Tuple_of_KEGG_file = (Seed_KEGG_file, Inferred_KEGG_file)\n",
    "Tuple_of_REACTOME_file = (Seed_REACTOME_file, Inferred_REACTOME_file)\n",
    "\n",
    "List_of_Tuples_of_File_Name = [Tuple_of_GO_Molecular_Function_file,\n",
    "                               Tuple_of_GO_Cellular_Component_file,\n",
    "                               Tuple_of_GO_Biological_Process_file,\n",
    "                               Tuple_of_KEGG_file, Tuple_of_REACTOME_file]\n",
    "\n",
    "List_of_Nested_Dictionaries_Names = \\\n",
    "    ['1. Dictionary of GO Molecular Function', '2. Dictionary of GO Cellular Component',\n",
    "     '3. Dictionary of GO Biological Process', '4. Dictionary of KEGG', '5. Dictionary of REACTOME']\n",
    "Columns_of_Table_Visualization = ['Enrichement of the Seeds',\n",
    "                                  'Enrichment of the Inferred Genes',\n",
    "                                  'Overlapping of the sets', 'Evaluated Metric']\n",
    "Rows = ['GO Molecular Function', 'GO Cellular Component', 'GO Biological Process',\n",
    "        'KEGG', 'REACTOME']"
   ],
   "metadata": {
    "collapsed": false
   }
  },
  {
   "cell_type": "code",
   "execution_count": 3,
   "metadata": {
    "collapsed": true
   },
   "outputs": [
    {
     "name": "stdout",
     "output_type": "stream",
     "text": [
      "                      Enrichement of the Seeds  \\\n",
      "GO Molecular Function                      383   \n",
      "GO Cellular Component                      204   \n",
      "GO Biological Process                     2419   \n",
      "KEGG                                       253   \n",
      "REACTOME                                  1167   \n",
      "\n",
      "                      Enrichment of the Inferred Genes  \\\n",
      "GO Molecular Function                              181   \n",
      "GO Cellular Component                              123   \n",
      "GO Biological Process                             1543   \n",
      "KEGG                                               176   \n",
      "REACTOME                                           833   \n",
      "\n",
      "                      Overlapping of the sets  Evaluated Metric  \n",
      "GO Molecular Function                     133          0.734807  \n",
      "GO Cellular Component                     106          0.861789  \n",
      "GO Biological Process                    1115          0.722618  \n",
      "KEGG                                      174          0.988636  \n",
      "REACTOME                                  688          0.825930  \n"
     ]
    },
    {
     "name": "stderr",
     "output_type": "stream",
     "text": [
      "C:\\Users\\neusv\\AppData\\Local\\Temp\\ipykernel_12544\\3535388152.py:39: FutureWarning: The behavior of DataFrame concatenation with empty or all-NA entries is deprecated. In a future version, this will no longer exclude empty or all-NA columns when determining the result dtypes. To retain the old behavior, exclude the relevant entries before the concat operation.\n",
      "  Table_Visualization_of_the_Enrichment_Results = pd.concat(\n"
     ]
    }
   ],
   "source": [
    "\n",
    "\n",
    "\n",
    "\n",
    "\n",
    "def Overlapping_Evaluation(File_Name_Tuple):\n",
    "    Seed_Enriched_function_file_name = File_Name_Tuple[0]\n",
    "    Inferred_Enriched_function_file_name = File_Name_Tuple[1]\n",
    "    Seed_Enriched_function = pd.read_csv(Seed_Enriched_function_file_name,\n",
    "                                         delimiter='\\t')\n",
    "    Seed_Enriched_function_Term = set(Seed_Enriched_function.iloc[:, 0])\n",
    "    Inferred_Enriched_function = pd.read_csv(Inferred_Enriched_function_file_name,\n",
    "                                             delimiter='\\t')\n",
    "    Inferred_Enriched_function_Term = set(Inferred_Enriched_function.iloc[:, 0])\n",
    "    Overlapping_Enriched_Function_Term = Seed_Enriched_function_Term.intersection(\n",
    "        Inferred_Enriched_function_Term)\n",
    "\n",
    "    Overlapping_Metric = len(Overlapping_Enriched_Function_Term) / \\\n",
    "                         min(len(Seed_Enriched_function_Term), len(Inferred_Enriched_function_Term))\n",
    "    Dictionary_of_Enriched_Functions = \\\n",
    "        {'Enrichment of the Seeds': Seed_Enriched_function_Term,\n",
    "         'Enrichment of the Inferred Genes': Inferred_Enriched_function_Term,\n",
    "         'Overlapping of the sets': Overlapping_Enriched_Function_Term,\n",
    "         'Evaluated Metric': Overlapping_Metric}\n",
    "    return Dictionary_of_Enriched_Functions\n",
    "\n",
    "\n",
    "Dictionary_of_Enriched_Functions = {}\n",
    "Table_Visualization_of_the_Enrichment_Results = pd.DataFrame(\n",
    "    columns=Columns_of_Table_Visualization)\n",
    "\n",
    "for it_on_Enriched_Pathway in range(len(List_of_Nested_Dictionaries_Names)):\n",
    "    Nested_Dictionary = Overlapping_Evaluation(\n",
    "        List_of_Tuples_of_File_Name[it_on_Enriched_Pathway])\n",
    "    Dictionary_of_Enriched_Functions[List_of_Nested_Dictionaries_Names[it_on_Enriched_Pathway]] = \\\n",
    "        Nested_Dictionary\n",
    "    Data_of_The_Row_of_Table_Visualization = \\\n",
    "        [[len(Nested_Dictionary['Enrichment of the Seeds']),\n",
    "          len(Nested_Dictionary['Enrichment of the Inferred Genes']),\n",
    "          len(Nested_Dictionary['Overlapping of the sets']),\n",
    "          Nested_Dictionary['Evaluated Metric']]]\n",
    "    Update_of_Table_Visualization = pd.DataFrame(Data_of_The_Row_of_Table_Visualization,\n",
    "                                                 columns=Columns_of_Table_Visualization)\n",
    "    Table_Visualization_of_the_Enrichment_Results = pd.concat(\n",
    "        [Table_Visualization_of_the_Enrichment_Results, Update_of_Table_Visualization],\n",
    "        ignore_index=True)\n",
    "\n",
    "Table_Visualization_of_the_Enrichment_Results.index = Rows\n",
    "print(Table_Visualization_of_the_Enrichment_Results)"
   ]
  }
 ],
 "metadata": {
  "kernelspec": {
   "display_name": "Python 3",
   "language": "python",
   "name": "python3"
  },
  "language_info": {
   "codemirror_mode": {
    "name": "ipython",
    "version": 2
   },
   "file_extension": ".py",
   "mimetype": "text/x-python",
   "name": "python",
   "nbconvert_exporter": "python",
   "pygments_lexer": "ipython2",
   "version": "2.7.6"
  }
 },
 "nbformat": 4,
 "nbformat_minor": 0
}
