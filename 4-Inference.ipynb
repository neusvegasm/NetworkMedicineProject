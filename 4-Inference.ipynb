{
 "cells": [
  {
   "cell_type": "markdown",
   "source": [
    "## Inference ALgorithms Validation"
   ],
   "metadata": {
    "collapsed": false
   }
  },
  {
   "cell_type": "markdown",
   "source": [
    "#### Libraries"
   ],
   "metadata": {
    "collapsed": false
   }
  },
  {
   "cell_type": "code",
   "execution_count": 25,
   "outputs": [],
   "source": [
    "import pickle\n",
    "import pandas as pd\n",
    "import random\n",
    "import time\n",
    "import numpy as np\n",
    "from algorithms.DIAMOnD import DIAMOnD\n",
    "from algorithms.DiaBLE import DiaBLE\n",
    "from algorithms.DIFFUSION import run_heat_diffusion\n",
    "from algorithms.Funct_DIAMOnD import Funct_DIAMOnD\n",
    "from algorithms.EnrichrQuery import Enrich_Main_List"
   ],
   "metadata": {
    "collapsed": false
   }
  },
  {
   "cell_type": "markdown",
   "source": [
    "#### Variables"
   ],
   "metadata": {
    "collapsed": false
   }
  },
  {
   "cell_type": "code",
   "execution_count": 13,
   "outputs": [],
   "source": [
    "# File Name to Load\n",
    "Graph_of_PPI_LCC_file_name = \"results/PPIGraph/Graph_of_PPI_LCC\"\n",
    "Seed_Genes_in_the_Interactome_file_name = \"results/GDA/Seed_Genes_in_the_Interactome\"\n",
    "\n",
    "# File Name to Save/ Load\n",
    "node_inferred_by_DIAMOnD_file = 'results/Inference/Node Inferred by DIAMOnD'\n",
    "node_inferred_by_DiaBLE_file = 'results/Inference/Node Inferred by DiaBLE'\n",
    "File_Name_of_Metrics_of_DiaBLE_inference = \"results/Inference/Metrics_of_DiaBLE_inference\"\n",
    "File_Name_of_Metrics_of_DIAMOnD_inference = \"results/Inference/Metrics_of_DIAMOnD_inference\"\n",
    "File_Name_of_Metrics_of_Diffusion_inference = \"results/Inference/Metrics_of_Diffusion_inference\"\n",
    "\n",
    "# File_Name_of_Enrichments_Results = 'Enriched Genes Weight Seed Normalization.pickle'\n",
    "# File_Name_of_Enrichments_Results = 'Enriched Genes Weight Self Normalization.pickle'\n",
    "# Set_of_Seed_Enriched_Onthologies_file_name = 'Set_of_Seed_Enriched_Onthologies'\n",
    "\n",
    "# Other Variables\n",
    "k_parameter_of_splitting = 5;\n",
    "Top_positions = [25, 50, 65, 100, 130, 180, 250]\n",
    "# Top_positions = [25, 50, 65, 130, 252]\n",
    "Diffusion_times_to_try = [0.002, 0.005, 0.01]\n",
    "\n",
    "# Metrics Matrices Initialization\n",
    "Precision_Matrix = [[None for _ in range(k_parameter_of_splitting)]\n",
    "                    for _ in range(len(Top_positions))]\n",
    "Recall_Matrix = [[None for _ in range(k_parameter_of_splitting)]\n",
    "                 for _ in range(len(Top_positions))]\n",
    "Founded_True_Positive = [[None for _ in range(k_parameter_of_splitting)]\n",
    "                         for _ in range(len(Top_positions))]\n",
    "F1_score_Matrix = [[None for _ in range(k_parameter_of_splitting)]\n",
    "                   for _ in range(len(Top_positions))]\n",
    "Metrics = [Founded_True_Positive, Precision_Matrix,\n",
    "           Recall_Matrix, F1_score_Matrix]\n",
    "Diffusion_Metrics_on_various_times = \\\n",
    "    [[[None for _ in range(k_parameter_of_splitting)]\n",
    "      for _ in range(len(Top_positions))]\n",
    "     for _ in range(len(Diffusion_times_to_try))]\n",
    "\n",
    "Columns_of_the_Table = [\"Top 25\", \"Top 50\", \"Top 65\", \"Top 130\", \"Top 252\"]\n",
    "Rows_of_the_Table = [\"Precision\", \"Recall\", \"F1 Score\"]\n",
    "\n",
    "Columns_of_the_Table_Extended = [\"Top 25\", \"Top 50\", \"Top 65\",\n",
    "                                 \"Top 100\", \"Top 130\", \"Top 180\", \"Top 250\"]"
   ],
   "metadata": {
    "collapsed": false
   }
  },
  {
   "cell_type": "markdown",
   "source": [
    "#### Load files"
   ],
   "metadata": {
    "collapsed": false
   }
  },
  {
   "cell_type": "code",
   "execution_count": 17,
   "outputs": [],
   "source": [
    "\n",
    "with open(Graph_of_PPI_LCC_file_name, \"rb\") as file:\n",
    "    Graph_of_PPI_LCC = pickle.load(file)\n",
    "\n",
    "with open(Seed_Genes_in_the_Interactome_file_name, \"rb\") as file:\n",
    "    Seed_genes_Symbols = pickle.load(file)"
   ],
   "metadata": {
    "collapsed": false
   }
  },
  {
   "cell_type": "markdown",
   "source": [
    "#### Functions"
   ],
   "metadata": {
    "collapsed": false
   }
  },
  {
   "cell_type": "code",
   "execution_count": 20,
   "outputs": [],
   "source": [
    "def randomly_split_of_the_list(list_of_gene, n_split):\n",
    "    random.seed(23)\n",
    "    random.shuffle(list_of_gene)\n",
    "    List_of_subarray = np.array_split(list_of_gene, n_split)\n",
    "    List_of_sublists = [None for _ in range(n_split)]\n",
    "    for i in range(n_split):\n",
    "        List_of_sublists[i] = [str(element)\n",
    "                               for element\n",
    "                               in list(List_of_subarray[i])]\n",
    "    return List_of_sublists\n",
    "\n",
    "\n",
    "def Calculating_Metrics(nodes_added, Validation_list_of_seeds,\n",
    "                        it_on_Top_position, it_on_validation):\n",
    "    True_positive = len(set(nodes_added).intersection(Validation_list_of_seeds))\n",
    "    Founded_True_Positive[it_on_Top_position][it_on_validation] = True_positive\n",
    "    Precision_Matrix[it_on_Top_position][it_on_validation] = \\\n",
    "        True_positive / len(nodes_added)\n",
    "    Recall_Matrix[it_on_Top_position][it_on_validation] = \\\n",
    "        True_positive / len(Validation_list_of_seeds)\n",
    "    if Precision_Matrix[it_on_Top_position][it_on_validation] \\\n",
    "            + Recall_Matrix[it_on_Top_position][it_on_validation]:\n",
    "        F1_score_Matrix[it_on_Top_position][it_on_validation] = \\\n",
    "            2 * (Precision_Matrix[it_on_Top_position][it_on_validation] \\\n",
    "                 * Recall_Matrix[it_on_Top_position][it_on_validation]) \\\n",
    "            / (Precision_Matrix[it_on_Top_position][it_on_validation] \\\n",
    "               + Recall_Matrix[it_on_Top_position][it_on_validation])\n",
    "    else:\n",
    "        F1_score_Matrix[it_on_Top_position][it_on_validation] = None\n",
    "\n",
    "    Metrics = [Founded_True_Positive, Precision_Matrix,\n",
    "               Recall_Matrix, F1_score_Matrix]\n",
    "    return Metrics\n",
    "\n",
    "\n",
    "def Implementing_Inference_Algorithms(Choosed_algorithm,\n",
    "                                      Graph_of_PPI_LCC, Seed_genes_Symbols, Top_positions,\n",
    "                                      outfile=node_inferred_by_DIAMOnD_file, Diffusion_time=0.005):\n",
    "    List_of_sublists_of_seeds = randomly_split_of_the_list(\n",
    "        list(Seed_genes_Symbols), k_parameter_of_splitting)\n",
    "    for it_on_validation in range(k_parameter_of_splitting):\n",
    "        List_of_sublists_of_seeds_copy = List_of_sublists_of_seeds.copy()\n",
    "        Validation_list_of_seeds = List_of_sublists_of_seeds[it_on_validation]\n",
    "        List_of_sublists_of_seeds_copy.remove(List_of_sublists_of_seeds[it_on_validation])\n",
    "        Training_list_of_seeds = [Gene\n",
    "                                  for sublist in List_of_sublists_of_seeds_copy\n",
    "                                  for Gene in sublist]\n",
    "        match Choosed_algorithm:\n",
    "            case 'DIAMOnD':\n",
    "                for it_on_Top_position in range(len(Top_positions)):\n",
    "                    list_of_nodes_added = DIAMOnD(Graph_of_PPI_LCC, Training_list_of_seeds,\n",
    "                                                  Top_positions[it_on_Top_position],\n",
    "                                                  alpha=1,\n",
    "                                                  outfile=node_inferred_by_DIAMOnD_file)\n",
    "                    nodes_added = [Generic_tuple[0] for Generic_tuple\n",
    "                                   in list_of_nodes_added]\n",
    "                    Metrics = Calculating_Metrics(nodes_added,\n",
    "                                                  Validation_list_of_seeds,\n",
    "                                                  it_on_Top_position, it_on_validation)\n",
    "\n",
    "            case 'DiaBLE':\n",
    "                for it_on_Top_position in range(len(Top_positions)):\n",
    "                    list_of_nodes_added = DiaBLE(Graph_of_PPI_LCC, Training_list_of_seeds,\n",
    "                                                 Top_positions[it_on_Top_position],\n",
    "                                                 alpha=1,\n",
    "                                                 outfile=node_inferred_by_DIAMOnD_file)\n",
    "                    nodes_added = [Generic_tuple[0] for Generic_tuple\n",
    "                                   in list_of_nodes_added]\n",
    "                    Metrics = Calculating_Metrics(nodes_added,\n",
    "                                                  Validation_list_of_seeds,\n",
    "                                                  it_on_Top_position, it_on_validation)\n",
    "\n",
    "            case 'Diffusion':\n",
    "                for it_on_Top_position in range(len(Top_positions)):\n",
    "                    nodes_added = run_heat_diffusion(\n",
    "                        Graph_of_PPI_LCC, Training_list_of_seeds, diffusion_time=Diffusion_time,\n",
    "                        n_positions=Top_positions[it_on_Top_position])\n",
    "                    Metrics = Calculating_Metrics(nodes_added,\n",
    "                                                  Validation_list_of_seeds,\n",
    "                                                  it_on_Top_position, it_on_validation)\n",
    "\n",
    "            case 'Funct_DIAMOnD':\n",
    "                Set_of_Seed_Enriched_Onthologies = Enrich_Main_List(Training_list_of_seeds)\n",
    "                for it_on_Top_position in range(len(Top_positions)):\n",
    "                    list_of_nodes_added = Funct_DIAMOnD(Graph_of_PPI_LCC,\n",
    "                                                        Training_list_of_seeds,\n",
    "                                                        Top_positions[it_on_Top_position],\n",
    "                                                        Set_of_Seed_Enriched_Onthologies,\n",
    "                                                        alpha=1,\n",
    "                                                        File_Name_of_Enrichments_Results= \\\n",
    "                                                            File_Name_of_Enrichments_Results[it_on_validation])\n",
    "                    nodes_added = [Generic_tuple[0] for Generic_tuple\n",
    "                                   in list_of_nodes_added]\n",
    "                    Metrics = Calculating_Metrics(nodes_added,\n",
    "                                                  Validation_list_of_seeds,\n",
    "                                                  it_on_Top_position, it_on_validation)\n",
    "\n",
    "            case _:\n",
    "                print(\"Invalid Inference Method. \\n\" +\n",
    "                      \"Please choose one from the following:\\n\" +\n",
    "                      \"'DIAMOND', 'DiaBLE', 'Diffusion' \\n\")\n",
    "                Metrics = []\n",
    "    return Metrics\n",
    "\n",
    "\n",
    "def Handle_ZeroDivisionError(array):\n",
    "    means = []\n",
    "    stds = []\n",
    "    for matrix in array:\n",
    "        matrix_means = []\n",
    "        matrix_stds = []\n",
    "        for row in matrix:\n",
    "            try:\n",
    "                mean = np.nanmean(row)\n",
    "                std = np.nanstd(row)\n",
    "            except ZeroDivisionError:\n",
    "                mean = np.nan\n",
    "                std = np.nan\n",
    "            matrix_means.append(mean)\n",
    "            matrix_stds.append(std)\n",
    "        means.append(matrix_means)\n",
    "        stds.append(matrix_stds)\n",
    "    return means, stds\n",
    "\n",
    "\n",
    "def Table_Visualization_of_Metrics(Metrics, Columns_of_the_Table, Rows_of_the_Table):\n",
    "    Metrics_array = np.array(Metrics)\n",
    "    Metrics_array = Metrics_array.astype(np.float64)\n",
    "    try:\n",
    "        Mean_of_the_Metrics = \\\n",
    "            np.nanmean(Metrics_array, axis=2)\n",
    "        Standard_Deviation_of_the_Metrics = \\\n",
    "            np.nanstd(Metrics_array, axis=2)\n",
    "    except ZeroDivisionError:\n",
    "        Mean_of_the_Metrics, Standard_Deviation_of_the_Metrics = \\\n",
    "            Handle_ZeroDivisionError(Metrics_array)\n",
    "    Mean_of_the_Metrics = \\\n",
    "        np.round(Mean_of_the_Metrics, 3)\n",
    "    Standard_Deviation_of_the_Metrics = \\\n",
    "        np.round(Standard_Deviation_of_the_Metrics, 3)\n",
    "    List_of_PlusMinus_Mean_and_Std = \\\n",
    "        [\n",
    "            [str(Mean_of_the_Metrics[i, j]) + ' ± ' +\n",
    "             str(Standard_Deviation_of_the_Metrics[i, j])\n",
    "             for j in range(Standard_Deviation_of_the_Metrics.shape[1])\n",
    "             ]\n",
    "            for i in range(Mean_of_the_Metrics.shape[0])\n",
    "        ]\n",
    "\n",
    "    Table_Visualization = pd.DataFrame(List_of_PlusMinus_Mean_and_Std,\n",
    "                                       columns=Columns_of_the_Table,\n",
    "                                       index=Rows_of_the_Table)\n",
    "    return Table_Visualization"
   ],
   "metadata": {
    "collapsed": false
   }
  },
  {
   "cell_type": "markdown",
   "source": [
    "#### Implementation\n",
    "\n",
    "*Uncomment sections to reproduce the results*"
   ],
   "metadata": {
    "collapsed": false
   }
  },
  {
   "cell_type": "markdown",
   "source": [],
   "metadata": {
    "collapsed": false
   }
  },
  {
   "cell_type": "code",
   "execution_count": null,
   "outputs": [],
   "source": [
    "'''Uncomment this Section to reproduce the DIFFUSION ALGORITHM results'''\n",
    "# # Creation of the group of Matrices of Metrics\n",
    "# Choosed_algorithm = 'Diffusion'\n",
    "# for it_on_diffusion_times in range(len(Diffusion_times_to_try)):\n",
    "#     Diffusion_Metrics = \\\n",
    "#         Implementing_Inference_Algorithms(Choosed_algorithm, Graph_of_PPI_LCC,\n",
    "#                                           Seed_genes_Symbols, Top_positions,\n",
    "#                                           Diffusion_time = \\\n",
    "#                                               Diffusion_times_to_try[it_on_diffusion_times])\n",
    "#     Diffusion_Metrics_on_various_times[it_on_diffusion_times] = Diffusion_Metrics\n",
    "\n",
    "# # Saving of the group of Matrices of Matrix\n",
    "# with open(File_Name_of_Metrics_of_Diffusion_inference, 'wb') as file:\n",
    "#     pickle.dump(Diffusion_Metrics_on_various_times, file)\n",
    "''''''\n",
    "\n",
    "'''Uncomment this Section to reproduce the DIABLE ALGORITHM results'''\n",
    "# # Creation of the Matrices of the Metrics\n",
    "# Choosed_algorithm = 'DiaBLE'\n",
    "# File_Name_of_Metrics_of_DiaBLE_inference = \"Metrics_of_DiaBLE_inference\"\n",
    "\n",
    "# DiaBLE_Metrics = Implementing_Inference_Algorithms(Choosed_algorithm, Graph_of_PPI_LCC,\n",
    "#                                   Seed_genes_Symbols, Top_positions)\n",
    "\n",
    "# # Saving the Matrices of the Metrics\n",
    "# with open(File_Name_of_Metrics_of_DiaBLE_inference, 'wb') as file:\n",
    "#     pickle.dump(DiaBLE_Metrics, file)\n",
    "''''''\n",
    "\n",
    "'''Uncomment this Section to reproduce the DIAMOND ALGORITHM results'''\n",
    "# # Creation of the Matrices of the Metrics\n",
    "# Choosed_algorithm = 'DIAMOnD'\n",
    "# File_Name_of_Metrics_of_DIAMOnD_inference = \"Metrics_of_DiaBLE_inference\"\n",
    "\n",
    "# DIAMOnD_Metrics = Implementing_Inference_Algorithms(Choosed_algorithm, Graph_of_PPI_LCC,\n",
    "#                                   Seed_genes_Symbols, Top_positions)\n",
    "\n",
    "# # Saving the Matrices of the Metrics\n",
    "# with open(File_Name_of_Metrics_of_DIAMOnD_inference, 'wb') as file:\n",
    "#     pickle.dump(DIAMOnD_Metrics, file)\n",
    "''''''"
   ],
   "metadata": {
    "collapsed": false
   }
  },
  {
   "cell_type": "code",
   "execution_count": 21,
   "outputs": [
    {
     "name": "stdout",
     "output_type": "stream",
     "text": [
      "                 Top 25         Top 50         Top 65        Top 100  \\\n",
      "Precision  0.016 ± 0.02  0.016 ± 0.008  0.022 ± 0.016  0.018 ± 0.006   \n",
      "Recall     0.008 ± 0.01  0.016 ± 0.008   0.028 ± 0.02  0.048 ± 0.016   \n",
      "F1 Score    0.027 ± 0.0     0.02 ± 0.0   0.03 ± 0.014  0.027 ± 0.009   \n",
      "\n",
      "                 Top 130        Top 180        Top 250  \n",
      "Precision  0.021 ± 0.007  0.036 ± 0.014   0.029 ± 0.01  \n",
      "Recall     0.103 ± 0.033  0.127 ± 0.048  0.143 ± 0.048  \n",
      "F1 Score   0.034 ± 0.011  0.056 ± 0.022  0.048 ± 0.016  \n",
      "                 Top 25         Top 50         Top 65        Top 100  \\\n",
      "Precision  0.016 ± 0.02  0.016 ± 0.008  0.022 ± 0.016  0.018 ± 0.006   \n",
      "Recall     0.008 ± 0.01  0.016 ± 0.008   0.028 ± 0.02  0.048 ± 0.016   \n",
      "F1 Score    0.027 ± 0.0     0.02 ± 0.0   0.03 ± 0.014  0.027 ± 0.009   \n",
      "\n",
      "                 Top 130        Top 180        Top 250  \n",
      "Precision  0.021 ± 0.007  0.036 ± 0.014   0.029 ± 0.01  \n",
      "Recall     0.103 ± 0.033  0.127 ± 0.048  0.143 ± 0.048  \n",
      "F1 Score   0.034 ± 0.011  0.056 ± 0.022  0.048 ± 0.016  \n",
      "                 Top 25         Top 50         Top 65        Top 100  \\\n",
      "Precision  0.016 ± 0.02  0.016 ± 0.008  0.022 ± 0.016  0.018 ± 0.006   \n",
      "Recall     0.008 ± 0.01  0.016 ± 0.008   0.028 ± 0.02  0.048 ± 0.016   \n",
      "F1 Score    0.027 ± 0.0     0.02 ± 0.0   0.03 ± 0.014  0.027 ± 0.009   \n",
      "\n",
      "                 Top 130        Top 180        Top 250  \n",
      "Precision  0.021 ± 0.007  0.036 ± 0.014   0.029 ± 0.01  \n",
      "Recall     0.103 ± 0.033  0.127 ± 0.048  0.143 ± 0.048  \n",
      "F1 Score   0.034 ± 0.011  0.056 ± 0.022  0.048 ± 0.016  \n"
     ]
    }
   ],
   "source": [
    "\n",
    "\n",
    "# Downloading of the group of Matrices of Metrics\n",
    "with open(File_Name_of_Metrics_of_Diffusion_inference, 'rb') as file:\n",
    "    Diffusion_Metrics_on_various_times_download = pickle.load(file)\n",
    "\n",
    "Table_Visualization_of_Diffusion_Metrics_iterated = \\\n",
    "    [None for _ in range(len(Diffusion_times_to_try))]\n",
    "\n",
    "for it_on_Visualizations in range(len(Diffusion_times_to_try)):\n",
    "    Table_Visualization_of_Diffusion_Metrics_iterated[it_on_Visualizations] = \\\n",
    "        Table_Visualization_of_Metrics(\n",
    "            Diffusion_Metrics_on_various_times_download[it_on_Visualizations][1:],\n",
    "            Columns_of_the_Table_Extended, Rows_of_the_Table)\n",
    "    print(Table_Visualization_of_Diffusion_Metrics_iterated[it_on_Visualizations])\n",
    "del it_on_Visualizations"
   ],
   "metadata": {
    "collapsed": false
   }
  },
  {
   "cell_type": "code",
   "execution_count": null,
   "outputs": [],
   "source": [
    "# # Creation of the Matrices of the Metrics\n",
    "Choosed_algorithm = 'Funct_DIAMOnD'\n",
    "\n",
    "File_Name_of_Enrichments_Results = ['Enriched_Genes_Weight_First_Validation_Step',\n",
    "                                    'Enriched_Genes_Weight_Second_Validation_Step',\n",
    "                                    'Enriched_Genes_Weight_Third_Validation_Step',\n",
    "                                    'Enriched_Genes_Weight_Fourth_Validation_Step',\n",
    "                                    'Enriched_Genes_Weight_Fifth_Validation_Step']\n",
    "\n",
    "start_time = time.time()\n",
    "Funct_DIAMOnD_Metrics = Implementing_Inference_Algorithms(Choosed_algorithm, Graph_of_PPI_LCC,\n",
    "                                                          Seed_genes_Symbols,\n",
    "                                                          Top_positions)\n",
    "end_time = time.time()\n",
    "Computational_Time = (end_time - start_time) / 60\n",
    "\n",
    "\n",
    "Table_Visualization_of_Funct_DIAMOnD = \\\n",
    "    Table_Visualization_of_Metrics(Funct_DIAMOnD_Metrics[1:],\n",
    "                                   Columns_of_the_Table_Extended,\n",
    "                                   Rows_of_the_Table)\n",
    "\n",
    "with open(File_Name_of_Enrichments_Results[1], \"rb\") as file:\n",
    "    Enriched_Genes_Weight_First_Validation_Step = pickle.load(file)"
   ],
   "metadata": {
    "collapsed": false
   }
  }
 ],
 "metadata": {
  "kernelspec": {
   "display_name": "Python 3",
   "language": "python",
   "name": "python3"
  },
  "language_info": {
   "codemirror_mode": {
    "name": "ipython",
    "version": 2
   },
   "file_extension": ".py",
   "mimetype": "text/x-python",
   "name": "python",
   "nbconvert_exporter": "python",
   "pygments_lexer": "ipython2",
   "version": "2.7.6"
  }
 },
 "nbformat": 4,
 "nbformat_minor": 0
}
