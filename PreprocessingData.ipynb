{
 "cells": [
  {
   "cell_type": "markdown",
   "source": [
    "### Import libraries"
   ],
   "metadata": {
    "collapsed": false
   }
  },
  {
   "cell_type": "code",
   "execution_count": 2,
   "metadata": {
    "collapsed": true
   },
   "outputs": [],
   "source": [
    "import os\n",
    "import pickle\n",
    "import networkx as nx\n",
    "import pandas as pd\n",
    "import matplotlib.pyplot as plt"
   ]
  },
  {
   "cell_type": "markdown",
   "source": [
    "### Variable names"
   ],
   "metadata": {
    "collapsed": false
   }
  },
  {
   "cell_type": "code",
   "execution_count": 21,
   "outputs": [],
   "source": [
    "interactome_file_name = \"data/BIOGRID-ORGANISM-Homo_sapiens-4.4.240.tab3.txt\"  # PPI FILE\n",
    "seeds_file_name = \"data/DISEASES_Summary_GDA_CURATED_C0025202.tsv\"\n",
    "human_ID = 9606\n",
    "interaction_of_interest = \"physical\"\n",
    "protein_A_identifier = \"Official Symbol Interactor A\"\n",
    "protein_B_identifier = \"Official Symbol Interactor B\"\n",
    "PPI_list_variable = \"data/PPI_of_interest.pk1\"\n",
    "first_gene_symbol_indicator = \"Official Symbol Interactor A\"\n",
    "second_gene_symbol_indicator = \"Official Symbol Interactor B\""
   ],
   "metadata": {
    "collapsed": false
   }
  },
  {
   "cell_type": "markdown",
   "source": [
    "### Import files and preprocess"
   ],
   "metadata": {
    "collapsed": false
   }
  },
  {
   "cell_type": "markdown",
   "source": [
    "#### PPI file"
   ],
   "metadata": {
    "collapsed": false
   }
  },
  {
   "cell_type": "code",
   "execution_count": 4,
   "outputs": [
    {
     "name": "stdout",
     "output_type": "stream",
     "text": [
      "The file already exists! Importing information from the file ...\n"
     ]
    }
   ],
   "source": [
    "## File already preprocessed\n",
    "if os.path.exists(PPI_list_variable):\n",
    "    print(\"The file already exists! Importing information from the file ...\")\n",
    "    with open(PPI_list_variable, 'rb') as file:\n",
    "        PPI = pickle.load(file)\n",
    "\n",
    "## First time reading the file\n",
    "else:\n",
    "    print(\"The file does not exist yet. Processing... \")\n",
    "    complete_interactome = pd.read_csv(interactome_file_name, delimiter='\\t')\n",
    "\n",
    "    ### Filter out non-human interactions\n",
    "    human_interactome = complete_interactome[\n",
    "        (complete_interactome[\"Organism ID Interactor A\"] == human_ID)\n",
    "        & (complete_interactome[\"Organism ID Interactor B\"] == human_ID)]\n",
    "\n",
    "    ### Filter out non-physical interactions\n",
    "    human_physical_interactome = human_interactome[\n",
    "        (human_interactome[\"Experimental System Type\"] == interaction_of_interest)]\n",
    "\n",
    "    ### Delete duplicates\n",
    "    PPI_NoDuplicates = human_physical_interactome.drop_duplicates(\n",
    "        subset=[first_gene_symbol_indicator, second_gene_symbol_indicator])\n",
    "\n",
    "    ### Delete self-loops\n",
    "    PPI_NoDuplicates_NoSelfLoop = PPI_NoDuplicates[\n",
    "        PPI_NoDuplicates[first_gene_symbol_indicator]\n",
    "        !=\n",
    "        PPI_NoDuplicates[second_gene_symbol_indicator]]\n",
    "\n",
    "    PPI = PPI_NoDuplicates_NoSelfLoop\n",
    "    with open(PPI_list_variable, 'wb') as file:\n",
    "        pickle.dump(PPI, file)\n",
    "\n",
    "    del complete_interactome, human_interactome, human_physical_interactome, \\\n",
    "        PPI_NoDuplicates, PPI_NoDuplicates_NoSelfLoop"
   ],
   "metadata": {
    "collapsed": false
   }
  },
  {
   "cell_type": "markdown",
   "source": [
    "#### Seed genes file"
   ],
   "metadata": {
    "collapsed": false
   }
  },
  {
   "cell_type": "code",
   "execution_count": 15,
   "outputs": [],
   "source": [
    "seed_genes_df = pd.read_csv(seeds_file_name, sep = '\\t')\n",
    "seed_genes_symbols = seed_genes_df[\"Gene\"]"
   ],
   "metadata": {
    "collapsed": false
   }
  },
  {
   "cell_type": "markdown",
   "source": [
    "Verify on HGNC the correctness of gene names, report deviations and inconsistencies, resolve conflicting information, if any"
   ],
   "metadata": {
    "collapsed": false
   }
  },
  {
   "cell_type": "code",
   "execution_count": 14,
   "outputs": [
    {
     "data": {
      "text/plain": "      Gene                                           UnitProt  \\\n0     BRAF                                             P15056   \n1     NRAS                                      Q5U091,P01111   \n2     MITF                    Q8WYR3,A0A087WXU1,B4DNC7,O75030   \n3     MC1R                                      Q01726,Q1JUL4   \n4   CDKN2A                               P42771,K7PML8,Q8N726   \n5     PTEN                                      F6KD01,P60484   \n6      TYR                                      P14679,L8B082   \n7     TP53  K7PPA8,A0A087WT22,Q53GA5,P04637,A0A087X1Q1,A0A...   \n8     CDK4                                             P11802   \n9    CTLA4                                             P16410   \n10    TERT                                             O14746   \n11   NFKB1                                             P19838   \n12     KIT                                             P10721   \n13     IL2                                      Q0GK43,P60568   \n14   IFNA1                                      P01562,L0N195   \n15     TNF                                      P01375,Q5STB3   \n16    PMEL                                             P40967   \n17   PDCD1                                  A0A0M3M0G7,Q15116   \n18    POMC                                             P01189   \n19    IFNG                                  A0A7R8GUN6,P01579   \n20   CD274                                      Q0GN75,Q9NZQ7   \n21   BRCA2                                             P51587   \n22  MAP2K1                               B4DFY5,Q02750,A4QPA9   \n23    GNAQ                                  P50148,A0A024R240   \n24   GNA11                                             P29992   \n25  PIK3CA                                      Q4LE51,P42336   \n26    AKT1                               B0LPE5,P31749,B3KVH4   \n27    RAF1                           L7RRS6,P04049,A0A0S2Z4L5   \n28   ERBB4                                             Q15303   \n29    FLT1                                      P17948,L7RSL3   \n\n     geneEnsemblIDs  geneNcbiID    geneNcbiType  \n0   ENSG00000157764         673  protein-coding  \n1   ENSG00000213281        4893  protein-coding  \n2   ENSG00000187098        4286  protein-coding  \n3   ENSG00000258839        4157  protein-coding  \n4   ENSG00000147889        1029  protein-coding  \n5   ENSG00000171862        5728  protein-coding  \n6   ENSG00000077498        7299  protein-coding  \n7   ENSG00000141510        7157  protein-coding  \n8   ENSG00000135446        1019  protein-coding  \n9   ENSG00000163599        1493  protein-coding  \n10  ENSG00000164362        7015  protein-coding  \n11  ENSG00000109320        4790  protein-coding  \n12  ENSG00000157404        3815  protein-coding  \n13  ENSG00000109471        3558  protein-coding  \n14  ENSG00000197919        3439  protein-coding  \n15  ENSG00000232810        7124  protein-coding  \n16  ENSG00000185664        6490  protein-coding  \n17  ENSG00000188389        5133  protein-coding  \n18  ENSG00000115138        5443  protein-coding  \n19  ENSG00000111537        3458  protein-coding  \n20  ENSG00000120217       29126  protein-coding  \n21  ENSG00000139618         675  protein-coding  \n22  ENSG00000169032        5604  protein-coding  \n23  ENSG00000156052        2776  protein-coding  \n24  ENSG00000088256        2767  protein-coding  \n25  ENSG00000121879        5290  protein-coding  \n26  ENSG00000142208         207  protein-coding  \n27  ENSG00000132155        5894  protein-coding  \n28  ENSG00000178568        2066  protein-coding  \n29  ENSG00000102755        2321  protein-coding  ",
      "text/html": "<div>\n<style scoped>\n    .dataframe tbody tr th:only-of-type {\n        vertical-align: middle;\n    }\n\n    .dataframe tbody tr th {\n        vertical-align: top;\n    }\n\n    .dataframe thead th {\n        text-align: right;\n    }\n</style>\n<table border=\"1\" class=\"dataframe\">\n  <thead>\n    <tr style=\"text-align: right;\">\n      <th></th>\n      <th>Gene</th>\n      <th>UnitProt</th>\n      <th>geneEnsemblIDs</th>\n      <th>geneNcbiID</th>\n      <th>geneNcbiType</th>\n    </tr>\n  </thead>\n  <tbody>\n    <tr>\n      <th>0</th>\n      <td>BRAF</td>\n      <td>P15056</td>\n      <td>ENSG00000157764</td>\n      <td>673</td>\n      <td>protein-coding</td>\n    </tr>\n    <tr>\n      <th>1</th>\n      <td>NRAS</td>\n      <td>Q5U091,P01111</td>\n      <td>ENSG00000213281</td>\n      <td>4893</td>\n      <td>protein-coding</td>\n    </tr>\n    <tr>\n      <th>2</th>\n      <td>MITF</td>\n      <td>Q8WYR3,A0A087WXU1,B4DNC7,O75030</td>\n      <td>ENSG00000187098</td>\n      <td>4286</td>\n      <td>protein-coding</td>\n    </tr>\n    <tr>\n      <th>3</th>\n      <td>MC1R</td>\n      <td>Q01726,Q1JUL4</td>\n      <td>ENSG00000258839</td>\n      <td>4157</td>\n      <td>protein-coding</td>\n    </tr>\n    <tr>\n      <th>4</th>\n      <td>CDKN2A</td>\n      <td>P42771,K7PML8,Q8N726</td>\n      <td>ENSG00000147889</td>\n      <td>1029</td>\n      <td>protein-coding</td>\n    </tr>\n    <tr>\n      <th>5</th>\n      <td>PTEN</td>\n      <td>F6KD01,P60484</td>\n      <td>ENSG00000171862</td>\n      <td>5728</td>\n      <td>protein-coding</td>\n    </tr>\n    <tr>\n      <th>6</th>\n      <td>TYR</td>\n      <td>P14679,L8B082</td>\n      <td>ENSG00000077498</td>\n      <td>7299</td>\n      <td>protein-coding</td>\n    </tr>\n    <tr>\n      <th>7</th>\n      <td>TP53</td>\n      <td>K7PPA8,A0A087WT22,Q53GA5,P04637,A0A087X1Q1,A0A...</td>\n      <td>ENSG00000141510</td>\n      <td>7157</td>\n      <td>protein-coding</td>\n    </tr>\n    <tr>\n      <th>8</th>\n      <td>CDK4</td>\n      <td>P11802</td>\n      <td>ENSG00000135446</td>\n      <td>1019</td>\n      <td>protein-coding</td>\n    </tr>\n    <tr>\n      <th>9</th>\n      <td>CTLA4</td>\n      <td>P16410</td>\n      <td>ENSG00000163599</td>\n      <td>1493</td>\n      <td>protein-coding</td>\n    </tr>\n    <tr>\n      <th>10</th>\n      <td>TERT</td>\n      <td>O14746</td>\n      <td>ENSG00000164362</td>\n      <td>7015</td>\n      <td>protein-coding</td>\n    </tr>\n    <tr>\n      <th>11</th>\n      <td>NFKB1</td>\n      <td>P19838</td>\n      <td>ENSG00000109320</td>\n      <td>4790</td>\n      <td>protein-coding</td>\n    </tr>\n    <tr>\n      <th>12</th>\n      <td>KIT</td>\n      <td>P10721</td>\n      <td>ENSG00000157404</td>\n      <td>3815</td>\n      <td>protein-coding</td>\n    </tr>\n    <tr>\n      <th>13</th>\n      <td>IL2</td>\n      <td>Q0GK43,P60568</td>\n      <td>ENSG00000109471</td>\n      <td>3558</td>\n      <td>protein-coding</td>\n    </tr>\n    <tr>\n      <th>14</th>\n      <td>IFNA1</td>\n      <td>P01562,L0N195</td>\n      <td>ENSG00000197919</td>\n      <td>3439</td>\n      <td>protein-coding</td>\n    </tr>\n    <tr>\n      <th>15</th>\n      <td>TNF</td>\n      <td>P01375,Q5STB3</td>\n      <td>ENSG00000232810</td>\n      <td>7124</td>\n      <td>protein-coding</td>\n    </tr>\n    <tr>\n      <th>16</th>\n      <td>PMEL</td>\n      <td>P40967</td>\n      <td>ENSG00000185664</td>\n      <td>6490</td>\n      <td>protein-coding</td>\n    </tr>\n    <tr>\n      <th>17</th>\n      <td>PDCD1</td>\n      <td>A0A0M3M0G7,Q15116</td>\n      <td>ENSG00000188389</td>\n      <td>5133</td>\n      <td>protein-coding</td>\n    </tr>\n    <tr>\n      <th>18</th>\n      <td>POMC</td>\n      <td>P01189</td>\n      <td>ENSG00000115138</td>\n      <td>5443</td>\n      <td>protein-coding</td>\n    </tr>\n    <tr>\n      <th>19</th>\n      <td>IFNG</td>\n      <td>A0A7R8GUN6,P01579</td>\n      <td>ENSG00000111537</td>\n      <td>3458</td>\n      <td>protein-coding</td>\n    </tr>\n    <tr>\n      <th>20</th>\n      <td>CD274</td>\n      <td>Q0GN75,Q9NZQ7</td>\n      <td>ENSG00000120217</td>\n      <td>29126</td>\n      <td>protein-coding</td>\n    </tr>\n    <tr>\n      <th>21</th>\n      <td>BRCA2</td>\n      <td>P51587</td>\n      <td>ENSG00000139618</td>\n      <td>675</td>\n      <td>protein-coding</td>\n    </tr>\n    <tr>\n      <th>22</th>\n      <td>MAP2K1</td>\n      <td>B4DFY5,Q02750,A4QPA9</td>\n      <td>ENSG00000169032</td>\n      <td>5604</td>\n      <td>protein-coding</td>\n    </tr>\n    <tr>\n      <th>23</th>\n      <td>GNAQ</td>\n      <td>P50148,A0A024R240</td>\n      <td>ENSG00000156052</td>\n      <td>2776</td>\n      <td>protein-coding</td>\n    </tr>\n    <tr>\n      <th>24</th>\n      <td>GNA11</td>\n      <td>P29992</td>\n      <td>ENSG00000088256</td>\n      <td>2767</td>\n      <td>protein-coding</td>\n    </tr>\n    <tr>\n      <th>25</th>\n      <td>PIK3CA</td>\n      <td>Q4LE51,P42336</td>\n      <td>ENSG00000121879</td>\n      <td>5290</td>\n      <td>protein-coding</td>\n    </tr>\n    <tr>\n      <th>26</th>\n      <td>AKT1</td>\n      <td>B0LPE5,P31749,B3KVH4</td>\n      <td>ENSG00000142208</td>\n      <td>207</td>\n      <td>protein-coding</td>\n    </tr>\n    <tr>\n      <th>27</th>\n      <td>RAF1</td>\n      <td>L7RRS6,P04049,A0A0S2Z4L5</td>\n      <td>ENSG00000132155</td>\n      <td>5894</td>\n      <td>protein-coding</td>\n    </tr>\n    <tr>\n      <th>28</th>\n      <td>ERBB4</td>\n      <td>Q15303</td>\n      <td>ENSG00000178568</td>\n      <td>2066</td>\n      <td>protein-coding</td>\n    </tr>\n    <tr>\n      <th>29</th>\n      <td>FLT1</td>\n      <td>P17948,L7RSL3</td>\n      <td>ENSG00000102755</td>\n      <td>2321</td>\n      <td>protein-coding</td>\n    </tr>\n  </tbody>\n</table>\n</div>"
     },
     "execution_count": 14,
     "metadata": {},
     "output_type": "execute_result"
    }
   ],
   "source": [
    "seed_genes_df[['Gene', 'UnitProt', 'geneEnsemblIDs', 'geneNcbiID', 'geneNcbiType']].drop_duplicates()"
   ],
   "metadata": {
    "collapsed": false
   }
  },
  {
   "cell_type": "markdown",
   "source": [
    "The gene names are all approved in HGNC"
   ],
   "metadata": {
    "collapsed": false
   }
  },
  {
   "cell_type": "markdown",
   "source": [
    "### Create the Interatcome"
   ],
   "metadata": {
    "collapsed": false
   }
  },
  {
   "cell_type": "code",
   "execution_count": 20,
   "outputs": [
    {
     "data": {
      "text/plain": "         #BioGRID Interaction ID Entrez Gene Interactor A  \\\n0                            103                     6416   \n1                            117                    84665   \n2                            183                       90   \n3                            278                     2624   \n4                            418                     6118   \n...                          ...                      ...   \n1265579                  3757040                     3376   \n1265581                  3757042                     5339   \n1265582                  3757043                     1728   \n1265583                  3757044                     3007   \n1265585                  3757057                    26137   \n\n        Entrez Gene Interactor B  BioGRID ID Interactor A  \\\n0                           2318                   112315   \n1                             88                   124185   \n2                           2339                   106605   \n3                           5371                   108894   \n4                           6774                   112038   \n...                          ...                      ...   \n1265579                     3945                   109605   \n1265581                     3855                   111355   \n1265582                    80070                   108072   \n1265583                     6132                   109262   \n1265585                   406967                   117573   \n\n         BioGRID ID Interactor B Systematic Name Interactor A  \\\n0                         108607                            -   \n1                         106603                            -   \n2                         108625                            -   \n3                         111384                            -   \n4                         112651                  RP4-547C9.3   \n...                          ...                          ...   \n1265579                   110137                  RP11-62C3.1   \n1265581                   110053                            -   \n1265582                   123100                            -   \n1265583                   112052                            -   \n1265585                   135816                 RP11-553L6.5   \n\n        Systematic Name Interactor B Official Symbol Interactor A  \\\n0                                  -                       MAP2K4   \n1                                  -                         MYPN   \n2                                  -                        ACVR1   \n3                                  -                        GATA2   \n4                                  -                         RPA2   \n...                              ...                          ...   \n1265579                            -                         IARS   \n1265581                            -                         PLEC   \n1265582                            -                         NQO1   \n1265583                            -                     HIST1H1D   \n1265585                            -                       ZBTB20   \n\n        Official Symbol Interactor B  \\\n0                               FLNC   \n1                              ACTN2   \n2                               FNTA   \n3                                PML   \n4                              STAT3   \n...                              ...   \n1265579                         LDHB   \n1265581                         KRT7   \n1265582                     ADAMTS20   \n1265583                         RPL8   \n1265585                       MIR192   \n\n                                     Synonyms Interactor A  ...  \\\n0        JNKK|JNKK1|MAPKK4|MEK4|MKK4|PRKMK4|SAPKK-1|SAP...  ...   \n1                                   CMD1DD|CMH22|MYOP|RCM4  ...   \n2                  ACTRI|ACVR1A|ACVRLK2|ALK2|FOP|SKR1|TSRI  ...   \n3                                 DCML|IMD21|MONOMAC|NFE1B  ...   \n4                            REPA2|RP-A p32|RP-A p34|RPA32  ...   \n...                                                    ...  ...   \n1265579                       IARS1|ILERS|ILRS|IRS|PRO0785  ...   \n1265581         EBS1|EBSO|HD1|LGMD2Q|PCN|PLEC1|PLEC1b|PLTN  ...   \n1265582                      DHQU|DIA4|DTD|NMOR1|NMORI|QR1  ...   \n1265583                                H1.3|H1D|H1F3|H1s-2  ...   \n1265585                       DPZF|HOF|ODA-8S|PRIMS|ZNF288  ...   \n\n        TREMBL Accessions Interactor B  \\\n0                               Q59H94   \n1                        Q59FD9|F6THM6   \n2                                    -   \n3                                    -   \n4                                    -   \n...                                ...   \n1265579                         Q5U077   \n1265581                              -   \n1265582                              -   \n1265583                              -   \n1265585                              -   \n\n                            REFSEQ Accessions Interactor B Ontology Term IDs  \\\n0                                   NP_001120959|NP_001449                 -   \n1                      NP_001094|NP_001265272|NP_001265273                 -   \n2                                                NP_002018                 -   \n3        NP_150250|NP_150253|NP_150252|NP_150247|NP_150...                 -   \n4        NP_644805|NP_003141|NP_001356447|NP_001356443|...                 -   \n...                                                    ...               ...   \n1265579                NP_001302466|NP_002291|NP_001167568                 -   \n1265581                                          NP_005547                 -   \n1265582                                          NP_079279                 -   \n1265583      NP_001304700|NP_001304711|NP_150644|NP_000964                 -   \n1265585                                                  -                 -   \n\n        Ontology Term Names Ontology Term Categories  \\\n0                         -                        -   \n1                         -                        -   \n2                         -                        -   \n3                         -                        -   \n4                         -                        -   \n...                     ...                      ...   \n1265579                   -                        -   \n1265581                   -                        -   \n1265582                   -                        -   \n1265583                   -                        -   \n1265585                   -                        -   \n\n         Ontology Term Qualifier IDs  Ontology Term Qualifier Names  \\\n0                                  -                              -   \n1                                  -                              -   \n2                                  -                              -   \n3                                  -                              -   \n4                                  -                              -   \n...                              ...                            ...   \n1265579                            -                              -   \n1265581                            -                              -   \n1265582                            -                              -   \n1265583                            -                              -   \n1265585                            -                              -   \n\n        Ontology Term Types Organism Name Interactor A  \\\n0                         -               Homo sapiens   \n1                         -               Homo sapiens   \n2                         -               Homo sapiens   \n3                         -               Homo sapiens   \n4                         -               Homo sapiens   \n...                     ...                        ...   \n1265579                   -               Homo sapiens   \n1265581                   -               Homo sapiens   \n1265582                   -               Homo sapiens   \n1265583                   -               Homo sapiens   \n1265585                   -               Homo sapiens   \n\n        Organism Name Interactor B  \n0                     Homo sapiens  \n1                     Homo sapiens  \n2                     Homo sapiens  \n3                     Homo sapiens  \n4                     Homo sapiens  \n...                            ...  \n1265579               Homo sapiens  \n1265581               Homo sapiens  \n1265582               Homo sapiens  \n1265583               Homo sapiens  \n1265585               Homo sapiens  \n\n[914680 rows x 37 columns]",
      "text/html": "<div>\n<style scoped>\n    .dataframe tbody tr th:only-of-type {\n        vertical-align: middle;\n    }\n\n    .dataframe tbody tr th {\n        vertical-align: top;\n    }\n\n    .dataframe thead th {\n        text-align: right;\n    }\n</style>\n<table border=\"1\" class=\"dataframe\">\n  <thead>\n    <tr style=\"text-align: right;\">\n      <th></th>\n      <th>#BioGRID Interaction ID</th>\n      <th>Entrez Gene Interactor A</th>\n      <th>Entrez Gene Interactor B</th>\n      <th>BioGRID ID Interactor A</th>\n      <th>BioGRID ID Interactor B</th>\n      <th>Systematic Name Interactor A</th>\n      <th>Systematic Name Interactor B</th>\n      <th>Official Symbol Interactor A</th>\n      <th>Official Symbol Interactor B</th>\n      <th>Synonyms Interactor A</th>\n      <th>...</th>\n      <th>TREMBL Accessions Interactor B</th>\n      <th>REFSEQ Accessions Interactor B</th>\n      <th>Ontology Term IDs</th>\n      <th>Ontology Term Names</th>\n      <th>Ontology Term Categories</th>\n      <th>Ontology Term Qualifier IDs</th>\n      <th>Ontology Term Qualifier Names</th>\n      <th>Ontology Term Types</th>\n      <th>Organism Name Interactor A</th>\n      <th>Organism Name Interactor B</th>\n    </tr>\n  </thead>\n  <tbody>\n    <tr>\n      <th>0</th>\n      <td>103</td>\n      <td>6416</td>\n      <td>2318</td>\n      <td>112315</td>\n      <td>108607</td>\n      <td>-</td>\n      <td>-</td>\n      <td>MAP2K4</td>\n      <td>FLNC</td>\n      <td>JNKK|JNKK1|MAPKK4|MEK4|MKK4|PRKMK4|SAPKK-1|SAP...</td>\n      <td>...</td>\n      <td>Q59H94</td>\n      <td>NP_001120959|NP_001449</td>\n      <td>-</td>\n      <td>-</td>\n      <td>-</td>\n      <td>-</td>\n      <td>-</td>\n      <td>-</td>\n      <td>Homo sapiens</td>\n      <td>Homo sapiens</td>\n    </tr>\n    <tr>\n      <th>1</th>\n      <td>117</td>\n      <td>84665</td>\n      <td>88</td>\n      <td>124185</td>\n      <td>106603</td>\n      <td>-</td>\n      <td>-</td>\n      <td>MYPN</td>\n      <td>ACTN2</td>\n      <td>CMD1DD|CMH22|MYOP|RCM4</td>\n      <td>...</td>\n      <td>Q59FD9|F6THM6</td>\n      <td>NP_001094|NP_001265272|NP_001265273</td>\n      <td>-</td>\n      <td>-</td>\n      <td>-</td>\n      <td>-</td>\n      <td>-</td>\n      <td>-</td>\n      <td>Homo sapiens</td>\n      <td>Homo sapiens</td>\n    </tr>\n    <tr>\n      <th>2</th>\n      <td>183</td>\n      <td>90</td>\n      <td>2339</td>\n      <td>106605</td>\n      <td>108625</td>\n      <td>-</td>\n      <td>-</td>\n      <td>ACVR1</td>\n      <td>FNTA</td>\n      <td>ACTRI|ACVR1A|ACVRLK2|ALK2|FOP|SKR1|TSRI</td>\n      <td>...</td>\n      <td>-</td>\n      <td>NP_002018</td>\n      <td>-</td>\n      <td>-</td>\n      <td>-</td>\n      <td>-</td>\n      <td>-</td>\n      <td>-</td>\n      <td>Homo sapiens</td>\n      <td>Homo sapiens</td>\n    </tr>\n    <tr>\n      <th>3</th>\n      <td>278</td>\n      <td>2624</td>\n      <td>5371</td>\n      <td>108894</td>\n      <td>111384</td>\n      <td>-</td>\n      <td>-</td>\n      <td>GATA2</td>\n      <td>PML</td>\n      <td>DCML|IMD21|MONOMAC|NFE1B</td>\n      <td>...</td>\n      <td>-</td>\n      <td>NP_150250|NP_150253|NP_150252|NP_150247|NP_150...</td>\n      <td>-</td>\n      <td>-</td>\n      <td>-</td>\n      <td>-</td>\n      <td>-</td>\n      <td>-</td>\n      <td>Homo sapiens</td>\n      <td>Homo sapiens</td>\n    </tr>\n    <tr>\n      <th>4</th>\n      <td>418</td>\n      <td>6118</td>\n      <td>6774</td>\n      <td>112038</td>\n      <td>112651</td>\n      <td>RP4-547C9.3</td>\n      <td>-</td>\n      <td>RPA2</td>\n      <td>STAT3</td>\n      <td>REPA2|RP-A p32|RP-A p34|RPA32</td>\n      <td>...</td>\n      <td>-</td>\n      <td>NP_644805|NP_003141|NP_001356447|NP_001356443|...</td>\n      <td>-</td>\n      <td>-</td>\n      <td>-</td>\n      <td>-</td>\n      <td>-</td>\n      <td>-</td>\n      <td>Homo sapiens</td>\n      <td>Homo sapiens</td>\n    </tr>\n    <tr>\n      <th>...</th>\n      <td>...</td>\n      <td>...</td>\n      <td>...</td>\n      <td>...</td>\n      <td>...</td>\n      <td>...</td>\n      <td>...</td>\n      <td>...</td>\n      <td>...</td>\n      <td>...</td>\n      <td>...</td>\n      <td>...</td>\n      <td>...</td>\n      <td>...</td>\n      <td>...</td>\n      <td>...</td>\n      <td>...</td>\n      <td>...</td>\n      <td>...</td>\n      <td>...</td>\n      <td>...</td>\n    </tr>\n    <tr>\n      <th>1265579</th>\n      <td>3757040</td>\n      <td>3376</td>\n      <td>3945</td>\n      <td>109605</td>\n      <td>110137</td>\n      <td>RP11-62C3.1</td>\n      <td>-</td>\n      <td>IARS</td>\n      <td>LDHB</td>\n      <td>IARS1|ILERS|ILRS|IRS|PRO0785</td>\n      <td>...</td>\n      <td>Q5U077</td>\n      <td>NP_001302466|NP_002291|NP_001167568</td>\n      <td>-</td>\n      <td>-</td>\n      <td>-</td>\n      <td>-</td>\n      <td>-</td>\n      <td>-</td>\n      <td>Homo sapiens</td>\n      <td>Homo sapiens</td>\n    </tr>\n    <tr>\n      <th>1265581</th>\n      <td>3757042</td>\n      <td>5339</td>\n      <td>3855</td>\n      <td>111355</td>\n      <td>110053</td>\n      <td>-</td>\n      <td>-</td>\n      <td>PLEC</td>\n      <td>KRT7</td>\n      <td>EBS1|EBSO|HD1|LGMD2Q|PCN|PLEC1|PLEC1b|PLTN</td>\n      <td>...</td>\n      <td>-</td>\n      <td>NP_005547</td>\n      <td>-</td>\n      <td>-</td>\n      <td>-</td>\n      <td>-</td>\n      <td>-</td>\n      <td>-</td>\n      <td>Homo sapiens</td>\n      <td>Homo sapiens</td>\n    </tr>\n    <tr>\n      <th>1265582</th>\n      <td>3757043</td>\n      <td>1728</td>\n      <td>80070</td>\n      <td>108072</td>\n      <td>123100</td>\n      <td>-</td>\n      <td>-</td>\n      <td>NQO1</td>\n      <td>ADAMTS20</td>\n      <td>DHQU|DIA4|DTD|NMOR1|NMORI|QR1</td>\n      <td>...</td>\n      <td>-</td>\n      <td>NP_079279</td>\n      <td>-</td>\n      <td>-</td>\n      <td>-</td>\n      <td>-</td>\n      <td>-</td>\n      <td>-</td>\n      <td>Homo sapiens</td>\n      <td>Homo sapiens</td>\n    </tr>\n    <tr>\n      <th>1265583</th>\n      <td>3757044</td>\n      <td>3007</td>\n      <td>6132</td>\n      <td>109262</td>\n      <td>112052</td>\n      <td>-</td>\n      <td>-</td>\n      <td>HIST1H1D</td>\n      <td>RPL8</td>\n      <td>H1.3|H1D|H1F3|H1s-2</td>\n      <td>...</td>\n      <td>-</td>\n      <td>NP_001304700|NP_001304711|NP_150644|NP_000964</td>\n      <td>-</td>\n      <td>-</td>\n      <td>-</td>\n      <td>-</td>\n      <td>-</td>\n      <td>-</td>\n      <td>Homo sapiens</td>\n      <td>Homo sapiens</td>\n    </tr>\n    <tr>\n      <th>1265585</th>\n      <td>3757057</td>\n      <td>26137</td>\n      <td>406967</td>\n      <td>117573</td>\n      <td>135816</td>\n      <td>RP11-553L6.5</td>\n      <td>-</td>\n      <td>ZBTB20</td>\n      <td>MIR192</td>\n      <td>DPZF|HOF|ODA-8S|PRIMS|ZNF288</td>\n      <td>...</td>\n      <td>-</td>\n      <td>-</td>\n      <td>-</td>\n      <td>-</td>\n      <td>-</td>\n      <td>-</td>\n      <td>-</td>\n      <td>-</td>\n      <td>Homo sapiens</td>\n      <td>Homo sapiens</td>\n    </tr>\n  </tbody>\n</table>\n<p>914680 rows × 37 columns</p>\n</div>"
     },
     "execution_count": 20,
     "metadata": {},
     "output_type": "execute_result"
    }
   ],
   "source": [
    "PPI"
   ],
   "metadata": {
    "collapsed": false
   }
  },
  {
   "cell_type": "code",
   "execution_count": 22,
   "outputs": [
    {
     "name": "stdout",
     "output_type": "stream",
     "text": [
      "Complete graph:\n",
      "Graph with 19972 nodes and 861240 edges\n"
     ]
    }
   ],
   "source": [
    "graph_of_PPI = nx.from_pandas_edgelist(PPI, protein_A_identifier, protein_B_identifier)\n",
    "print('Complete graph:')\n",
    "print(graph_of_PPI)"
   ],
   "metadata": {
    "collapsed": false
   }
  },
  {
   "cell_type": "markdown",
   "source": [
    "#### Find the Large Connected Component (LCC)"
   ],
   "metadata": {
    "collapsed": false
   }
  },
  {
   "cell_type": "code",
   "execution_count": 6,
   "outputs": [
    {
     "name": "stdout",
     "output_type": "stream",
     "text": [
      "LCC graph:\n",
      "Graph with 33021 nodes and 871153 edges\n"
     ]
    }
   ],
   "source": [
    "connected_components = nx.connected_components(graph_of_PPI)\n",
    "largest_cc = max(connected_components, key=len)\n",
    "LCC_subgraph = nx.subgraph(graph_of_PPI, largest_cc).copy()\n",
    "print('LCC graph:')\n",
    "print(LCC_subgraph)"
   ],
   "metadata": {
    "collapsed": false
   }
  },
  {
   "cell_type": "markdown",
   "source": [
    "#### Find the graph for the diseases genes present in LCC"
   ],
   "metadata": {
    "collapsed": false
   }
  },
  {
   "cell_type": "code",
   "execution_count": 19,
   "outputs": [
    {
     "data": {
      "text/plain": "{}"
     },
     "execution_count": 19,
     "metadata": {},
     "output_type": "execute_result"
    }
   ],
   "source": [
    "LCC_subgraph.nodes[1]"
   ],
   "metadata": {
    "collapsed": false
   }
  }
 ],
 "metadata": {
  "kernelspec": {
   "display_name": "Python 3",
   "language": "python",
   "name": "python3"
  },
  "language_info": {
   "codemirror_mode": {
    "name": "ipython",
    "version": 2
   },
   "file_extension": ".py",
   "mimetype": "text/x-python",
   "name": "python",
   "nbconvert_exporter": "python",
   "pygments_lexer": "ipython2",
   "version": "2.7.6"
  }
 },
 "nbformat": 4,
 "nbformat_minor": 0
}
