{
 "cells": [
  {
   "cell_type": "markdown",
   "source": [
    "## List Extraction"
   ],
   "metadata": {
    "collapsed": false
   }
  },
  {
   "cell_type": "markdown",
   "source": [
    "#### Libraries"
   ],
   "metadata": {
    "collapsed": false
   }
  },
  {
   "cell_type": "code",
   "execution_count": 5,
   "outputs": [],
   "source": [
    "import pandas as pd\n",
    "import os\n",
    "import pickle"
   ],
   "metadata": {
    "collapsed": false
   }
  },
  {
   "cell_type": "markdown",
   "source": [
    "#### Variables"
   ],
   "metadata": {
    "collapsed": false
   }
  },
  {
   "cell_type": "code",
   "execution_count": 6,
   "outputs": [],
   "source": [
    "# Name of the files to load\n",
    "Interactome_file_name_corrected_updated = \"data/BIOGRID-ORGANISM-Homo_sapiens-4.4.240.tab3.txt\"\n",
    "\n",
    "# Name of file to save/load\n",
    "PPI_list_variable_corrected_updated = \"data/PPI_of_interest_corrected updated\"\n",
    "\n",
    "human_ID = 9606\n",
    "interaction_of_interest = \"physical\"\n",
    "First_gene_symbol_indicator = \"Official Symbol Interactor A\"\n",
    "Second_gene_symbol_indicator = \"Official Symbol Interactor B\""
   ],
   "metadata": {
    "collapsed": false
   }
  },
  {
   "cell_type": "markdown",
   "source": [
    "#### Preprocessing"
   ],
   "metadata": {
    "collapsed": false
   }
  },
  {
   "cell_type": "code",
   "execution_count": null,
   "metadata": {
    "collapsed": true,
    "pycharm": {
     "is_executing": true
    }
   },
   "outputs": [
    {
     "name": "stdout",
     "output_type": "stream",
     "text": [
      "The file already exists! Importing information from the file ... \n",
      "\n"
     ]
    }
   ],
   "source": [
    "if os.path.exists(PPI_list_variable_corrected_updated):\n",
    "    print(\"The file already exists! Importing information from the file ... \\n\")\n",
    "    with open(PPI_list_variable_corrected_updated, 'rb') as file:\n",
    "        PPI = pickle.load(file)\n",
    "    print(\"Done\")\n",
    "\n",
    "else:\n",
    "    print(\"The file does not exist yet. Processing... \\n\")\n",
    "    complete_interactome = pd.read_csv(Interactome_file_name_corrected_updated,\n",
    "                                       delimiter='\\t')\n",
    "\n",
    "    human_interactome = complete_interactome[\n",
    "        (complete_interactome[\"Organism ID Interactor A\"] == human_ID)\n",
    "        & (complete_interactome[\"Organism ID Interactor B\"] == human_ID)]\n",
    "\n",
    "    human_physical_interactome = human_interactome[\n",
    "        (human_interactome[\"Experimental System Type\"] == interaction_of_interest)]\n",
    "    ## human_physical_interactome.to_csv(\"human_physical_interactome.csv\", index = False)\n",
    "\n",
    "    # Duplicate Removal\n",
    "    PPI_NoDuplicates = human_physical_interactome.drop_duplicates(\n",
    "        subset=[First_gene_symbol_indicator, Second_gene_symbol_indicator])\n",
    "\n",
    "    PPI_NoDuplicates_NoSelfLoop = PPI_NoDuplicates[\n",
    "        PPI_NoDuplicates[First_gene_symbol_indicator]\n",
    "        !=\n",
    "        PPI_NoDuplicates[Second_gene_symbol_indicator]]\n",
    "\n",
    "    PPI = PPI_NoDuplicates_NoSelfLoop\n",
    "    with open(PPI_list_variable_corrected_updated, 'wb') as file:\n",
    "        pickle.dump(PPI, file)\n",
    "\n",
    "    del complete_interactome, human_interactome, human_physical_interactome, \\\n",
    "        PPI_NoDuplicates, PPI_NoDuplicates_NoSelfLoop"
   ]
  },
  {
   "cell_type": "code",
   "execution_count": null,
   "outputs": [],
   "source": [],
   "metadata": {
    "collapsed": false
   }
  }
 ],
 "metadata": {
  "kernelspec": {
   "display_name": "Python 3",
   "language": "python",
   "name": "python3"
  },
  "language_info": {
   "codemirror_mode": {
    "name": "ipython",
    "version": 2
   },
   "file_extension": ".py",
   "mimetype": "text/x-python",
   "name": "python",
   "nbconvert_exporter": "python",
   "pygments_lexer": "ipython2",
   "version": "2.7.6"
  }
 },
 "nbformat": 4,
 "nbformat_minor": 0
}
