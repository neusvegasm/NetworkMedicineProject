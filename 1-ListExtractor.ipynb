{
 "cells": [
  {
   "cell_type": "markdown",
   "metadata": {},
   "source": [
    "## List Extraction"
   ]
  },
  {
   "cell_type": "markdown",
   "metadata": {},
   "source": [
    "#### Libraries"
   ]
  },
  {
   "cell_type": "code",
   "execution_count": 1,
   "metadata": {},
   "outputs": [],
   "source": [
    "import pandas as pd\n",
    "import os\n",
    "import pickle"
   ]
  },
  {
   "cell_type": "markdown",
   "metadata": {},
   "source": [
    "#### Variables"
   ]
  },
  {
   "cell_type": "code",
   "execution_count": 2,
   "metadata": {},
   "outputs": [],
   "source": [
    "# Name of the files to load\n",
    "Interactome_file_name_corrected_updated = \"data/BIOGRID-ORGANISM-Homo_sapiens-4.4.240.tab3.txt\"\n",
    "\n",
    "# Name of file to save/load\n",
    "PPI_list_variable_corrected_updated = \"data/PPI_of_interest_corrected updated\"\n",
    "\n",
    "human_ID = 9606\n",
    "interaction_of_interest = \"physical\"\n",
    "First_gene_symbol_indicator = \"Official Symbol Interactor A\"\n",
    "Second_gene_symbol_indicator = \"Official Symbol Interactor B\""
   ]
  },
  {
   "cell_type": "markdown",
   "metadata": {},
   "source": [
    "#### Preprocessing"
   ]
  },
  {
   "cell_type": "code",
   "execution_count": 3,
   "metadata": {},
   "outputs": [
    {
     "name": "stdout",
     "output_type": "stream",
     "text": [
      "The file already exists! Importing information from the file ... \n",
      "\n",
      "Done\n"
     ]
    }
   ],
   "source": [
    "if os.path.exists(PPI_list_variable_corrected_updated):\n",
    "    print(\"The file already exists! Importing information from the file ... \\n\")\n",
    "    with open(PPI_list_variable_corrected_updated, 'rb') as file:\n",
    "        PPI = pickle.load(file)\n",
    "    print(\"Done\")\n",
    "\n",
    "else:\n",
    "    print(\"The file does not exist yet. Processing... \\n\")\n",
    "    complete_interactome = pd.read_csv(Interactome_file_name_corrected_updated,\n",
    "                                       delimiter='\\t')\n",
    "\n",
    "    human_interactome = complete_interactome[\n",
    "        (complete_interactome[\"Organism ID Interactor A\"] == human_ID)\n",
    "        & (complete_interactome[\"Organism ID Interactor B\"] == human_ID)]\n",
    "\n",
    "    human_physical_interactome = human_interactome[\n",
    "        (human_interactome[\"Experimental System Type\"] == interaction_of_interest)]\n",
    "    ## human_physical_interactome.to_csv(\"human_physical_interactome.csv\", index = False)\n",
    "\n",
    "    # Duplicate Removal\n",
    "    PPI_NoDuplicates = human_physical_interactome.drop_duplicates(\n",
    "        subset=[First_gene_symbol_indicator, Second_gene_symbol_indicator])\n",
    "\n",
    "    PPI_NoDuplicates_NoSelfLoop = PPI_NoDuplicates[\n",
    "        PPI_NoDuplicates[First_gene_symbol_indicator]\n",
    "        !=\n",
    "        PPI_NoDuplicates[Second_gene_symbol_indicator]]\n",
    "\n",
    "    PPI = PPI_NoDuplicates_NoSelfLoop\n",
    "    with open(PPI_list_variable_corrected_updated, 'wb') as file:\n",
    "        pickle.dump(PPI, file)\n",
    "\n",
    "    del complete_interactome, human_interactome, human_physical_interactome, \\\n",
    "        PPI_NoDuplicates, PPI_NoDuplicates_NoSelfLoop"
   ]
  },
  {
   "cell_type": "code",
   "execution_count": 4,
   "metadata": {},
   "outputs": [
    {
     "name": "stdout",
     "output_type": "stream",
     "text": [
      "   #BioGRID Interaction ID Entrez Gene Interactor A Entrez Gene Interactor B  \\\n",
      "0                      103                     6416                     2318   \n",
      "1                      117                    84665                       88   \n",
      "2                      183                       90                     2339   \n",
      "3                      278                     2624                     5371   \n",
      "4                      418                     6118                     6774   \n",
      "\n",
      "   BioGRID ID Interactor A  BioGRID ID Interactor B  \\\n",
      "0                   112315                   108607   \n",
      "1                   124185                   106603   \n",
      "2                   106605                   108625   \n",
      "3                   108894                   111384   \n",
      "4                   112038                   112651   \n",
      "\n",
      "  Systematic Name Interactor A Systematic Name Interactor B  \\\n",
      "0                            -                            -   \n",
      "1                            -                            -   \n",
      "2                            -                            -   \n",
      "3                            -                            -   \n",
      "4                  RP4-547C9.3                            -   \n",
      "\n",
      "  Official Symbol Interactor A Official Symbol Interactor B  \\\n",
      "0                       MAP2K4                         FLNC   \n",
      "1                         MYPN                        ACTN2   \n",
      "2                        ACVR1                         FNTA   \n",
      "3                        GATA2                          PML   \n",
      "4                         RPA2                        STAT3   \n",
      "\n",
      "                               Synonyms Interactor A  ...  \\\n",
      "0  JNKK|JNKK1|MAPKK4|MEK4|MKK4|PRKMK4|SAPKK-1|SAP...  ...   \n",
      "1                             CMD1DD|CMH22|MYOP|RCM4  ...   \n",
      "2            ACTRI|ACVR1A|ACVRLK2|ALK2|FOP|SKR1|TSRI  ...   \n",
      "3                           DCML|IMD21|MONOMAC|NFE1B  ...   \n",
      "4                      REPA2|RP-A p32|RP-A p34|RPA32  ...   \n",
      "\n",
      "  TREMBL Accessions Interactor B  \\\n",
      "0                         Q59H94   \n",
      "1                  Q59FD9|F6THM6   \n",
      "2                              -   \n",
      "3                              -   \n",
      "4                              -   \n",
      "\n",
      "                      REFSEQ Accessions Interactor B Ontology Term IDs  \\\n",
      "0                             NP_001120959|NP_001449                 -   \n",
      "1                NP_001094|NP_001265272|NP_001265273                 -   \n",
      "2                                          NP_002018                 -   \n",
      "3  NP_150250|NP_150253|NP_150252|NP_150247|NP_150...                 -   \n",
      "4  NP_644805|NP_003141|NP_001356447|NP_001356443|...                 -   \n",
      "\n",
      "  Ontology Term Names Ontology Term Categories  Ontology Term Qualifier IDs  \\\n",
      "0                   -                        -                            -   \n",
      "1                   -                        -                            -   \n",
      "2                   -                        -                            -   \n",
      "3                   -                        -                            -   \n",
      "4                   -                        -                            -   \n",
      "\n",
      "   Ontology Term Qualifier Names Ontology Term Types  \\\n",
      "0                              -                   -   \n",
      "1                              -                   -   \n",
      "2                              -                   -   \n",
      "3                              -                   -   \n",
      "4                              -                   -   \n",
      "\n",
      "  Organism Name Interactor A Organism Name Interactor B  \n",
      "0               Homo sapiens               Homo sapiens  \n",
      "1               Homo sapiens               Homo sapiens  \n",
      "2               Homo sapiens               Homo sapiens  \n",
      "3               Homo sapiens               Homo sapiens  \n",
      "4               Homo sapiens               Homo sapiens  \n",
      "\n",
      "[5 rows x 37 columns]\n"
     ]
    }
   ],
   "source": [
    "print(PPI.head())"
   ]
  },
  {
   "cell_type": "code",
   "execution_count": null,
   "outputs": [],
   "source": [],
   "metadata": {
    "collapsed": false
   }
  }
 ],
 "metadata": {
  "kernelspec": {
   "display_name": "Python 3 (ipykernel)",
   "language": "python",
   "name": "python3"
  },
  "language_info": {
   "codemirror_mode": {
    "name": "ipython",
    "version": 3
   },
   "file_extension": ".py",
   "mimetype": "text/x-python",
   "name": "python",
   "nbconvert_exporter": "python",
   "pygments_lexer": "ipython3",
   "version": "3.11.7"
  }
 },
 "nbformat": 4,
 "nbformat_minor": 1
}
